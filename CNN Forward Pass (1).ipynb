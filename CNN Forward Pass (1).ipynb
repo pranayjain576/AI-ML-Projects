{
  "cells": [
    {
      "cell_type": "markdown",
      "id": "9f852861",
      "metadata": {
        "id": "9f852861"
      },
      "source": [
        "Name: Pranay Jain \\\n",
        "Roll number: AI22BTECH11020"
      ]
    },
    {
      "cell_type": "code",
      "execution_count": 589,
      "id": "1cec4a4e",
      "metadata": {
        "id": "1cec4a4e"
      },
      "outputs": [],
      "source": [
        "import numpy as np\n",
        "import matplotlib.pyplot as plt\n",
        "from PIL import Image\n"
      ]
    },
    {
      "cell_type": "markdown",
      "id": "2bb2b7b0",
      "metadata": {
        "id": "2bb2b7b0"
      },
      "source": [
        "## Activation function definitions"
      ]
    },
    {
      "cell_type": "code",
      "execution_count": 590,
      "id": "358e052b",
      "metadata": {
        "id": "358e052b"
      },
      "outputs": [],
      "source": [
        "class Activation:\n",
        "    ''' Contains definitions for various activation functions, namely, relu, sigmoid, tanh, prelu \n",
        "    \n",
        "    Attributes\n",
        "    ----------\n",
        "    activation : str\n",
        "        Activation function; can be one of `relu`, `sigmoid`, `tanh`, `prelu`\n",
        "    '''\n",
        "    \n",
        "    def __init__(self, activation):\n",
        "        self.activation = activation\n",
        "        \n",
        "    def activate(self, x, a=None):\n",
        "        ''' Applies the activation function to the given input \n",
        "\n",
        "        Parameters\n",
        "        ----------\n",
        "        x : int or ndarray\n",
        "            Input to be activated\n",
        "        a : int\n",
        "            Parameter used for `prelu` (Parametric ReLU)\n",
        "\n",
        "        Returns\n",
        "        -------\n",
        "        int or ndarray\n",
        "            Activated input\n",
        "        '''\n",
        "       \n",
        "        if self.activation == 'relu':\n",
        "            return np.maximum(x, 0)\n",
        "        \n",
        "        elif self.activation == 'sigmoid':\n",
        "            return 1 / (1 + np.exp(-x))\n",
        "        \n",
        "        elif self.activation == 'tanh':\n",
        "            return np.tanh(x)\n",
        "        \n",
        "        elif self.activation == 'prelu':\n",
        "            if a is not None:\n",
        "                return x if x >= 0 else a * x\n",
        "            else:\n",
        "                return np.maximum(x, 0)\n",
        "            \n",
        "        else:\n",
        "            raise ValueError(self.activation + ' is not a supported activation function. Possible choices are relu, sigmoid, tanh, prelu')"
      ]
    },
    {
      "cell_type": "markdown",
      "id": "13fb93f0",
      "metadata": {
        "id": "13fb93f0"
      },
      "source": [
        "## Convolution function"
      ]
    },
    {
      "cell_type": "code",
      "execution_count": 591,
      "id": "c8929cdc",
      "metadata": {
        "id": "c8929cdc"
      },
      "outputs": [],
      "source": [
        "def convolution(inputs, kernels, bias=None, stride=1, padding=0, activation='sigmoid', parameter=None):\n",
        "    ''' Perform a convolution operation on the given input \n",
        "\n",
        "    Parameters\n",
        "    ----------\n",
        "    inputs : ndarray of shape (N, C, H, W)\n",
        "        N : batch size (number of input images)\n",
        "        C : number of channels in each image\n",
        "        H : height of each image\n",
        "        W : width of each image\n",
        "    kernels : ndarray of shape (D, C, h, w)\n",
        "        D : number of filters\n",
        "        C : number of channels in each image\n",
        "        h : height of kernel\n",
        "        w : width of kernel\n",
        "    bias : ndarray of shape (D,)\n",
        "        Bias for each filter; if None, then no bias is considered\n",
        "    stride : int or tuple of ints\n",
        "        Stride of convolution along each dimension\n",
        "    padding : int or tuple of ints\n",
        "        Padding to be applied to the inputs along each dimension\n",
        "    activation : str\n",
        "        Activation function; can be one of `relu`, `sigmoid`, `tanh`, `prelu`\n",
        "    parameter : int\n",
        "        Parameter for the `prelu` activation function\n",
        "\n",
        "    Returns\n",
        "    -------\n",
        "    ndarray of shape (N, D, H', W')\n",
        "        Result of convolution of `inputs` with `kernels`\n",
        "    '''\n",
        "    \n",
        "    N = inputs.shape[0]\n",
        "    C = inputs.shape[1]\n",
        "    H = inputs.shape[2]\n",
        "    W = inputs.shape[3]\n",
        "    \n",
        "    D = kernels.shape[0]\n",
        "    h = kernels.shape[2]\n",
        "    w = kernels.shape[3]\n",
        "    \n",
        "    if kernels.shape[1] != C:\n",
        "        raise ValueError('The kernels should have the same number of (in-)channels as the input')\n",
        "        \n",
        "    elif bias is not None and bias.shape[0] != D:\n",
        "        raise ValueError('The number of bias terms should be equal to the number of kernels')\n",
        "        \n",
        "    # If `stride` is an integer, use same stride for both dimensions \n",
        "    if type(stride) == int:\n",
        "        stride = (stride, stride)\n",
        "    \n",
        "    # If `padding` is an integer, use same padding for both dimensions\n",
        "    if type(padding) == int:\n",
        "        padding = (padding, padding)\n",
        "    \n",
        "    # Pad the inputs with 0 and compute output shape\n",
        "    padded_inputs = np.pad(inputs, ((0,0), (0,0), (padding[0],padding[0]), (padding[1],padding[1])), 'constant')\n",
        "    H_out = (H - h + 2*padding[0]) // stride[0] + 1\n",
        "    W_out = (W - w + 2*padding[1]) // stride[1] + 1\n",
        "    output = np.zeros((N, D, H_out, W_out))  \n",
        "    \n",
        "    for n in range(N):\n",
        "        for d in range(D):\n",
        "            kernel = kernels[d]\n",
        "            for i in range(H_out):\n",
        "                for j in range(W_out):\n",
        "\n",
        "                    # Compute the element-wise product of the input region and kernel followed by adding all the elements in the product\n",
        "                    output[n, d, i, j] = np.sum(np.multiply(kernel, padded_inputs[n, :, i*stride[0]:i*stride[0]+h, j*stride[1]:j*stride[1]+w]))\n",
        "                    if bias is not None:\n",
        "                        output[n, d, i, j] += bias[d] # Add bias to the weighted sum\n",
        "                    \n",
        "                    # Apply the non-linearity\n",
        "                    nonlinearity = Activation(activation)\n",
        "                    output[n, d, i, j] = nonlinearity.activate(output[n, d, i, j])\n",
        "                        \n",
        "    return output\n",
        "            "
      ]
    },
    {
      "cell_type": "markdown",
      "id": "35a1793b",
      "metadata": {
        "id": "35a1793b"
      },
      "source": [
        "### Testing with IIT-H logo"
      ]
    },
    {
      "cell_type": "code",
      "execution_count": 592,
      "id": "842a634a",
      "metadata": {
        "colab": {
          "base_uri": "https://localhost:8080/",
          "height": 67
        },
        "id": "842a634a",
        "outputId": "1101d03c-230c-40f0-a3e6-a7df8aca599b"
      },
      "outputs": [
        {
          "data": {
            "image/png": "[encoded data removed]",
            "text/plain": [
              "<PIL.Image.Image image mode=RGB size=50x50 at 0x7F78573983D0>"
            ]
          },
          "execution_count": 592,
          "metadata": {},
          "output_type": "execute_result"
        }
      ],
      "source": [
        "iith = Image.open('iith.jpg').convert('RGB')\n",
        "iith"
      ]
    },
    {
      "cell_type": "code",
      "execution_count": 593,
      "id": "5WFrn548kybW",
      "metadata": {
        "colab": {
          "base_uri": "https://localhost:8080/"
        },
        "id": "5WFrn548kybW",
        "outputId": "963cc3b7-aa47-40e2-be12-d5d2b59d3702"
      },
      "outputs": [
        {
          "data": {
            "text/plain": [
              "(1, 3, 50, 50)"
            ]
          },
          "execution_count": 593,
          "metadata": {},
          "output_type": "execute_result"
        }
      ],
      "source": [
        "iith = np.array(iith).transpose((2, 0, 1))\n",
        "iith = np.array([iith])\n",
        "iith.shape"
      ]
    },
    {
      "cell_type": "code",
      "execution_count": 594,
      "id": "sbENNLaSlapi",
      "metadata": {
        "colab": {
          "base_uri": "https://localhost:8080/",
          "height": 320
        },
        "id": "sbENNLaSlapi",
        "outputId": "5e86cad3-b7f2-4f0d-b147-251904c4264c"
      },
      "outputs": [
        {
          "name": "stderr",
          "output_type": "stream",
          "text": [
            "WARNING:matplotlib.image:Clipping input data to the valid range for imshow with RGB data ([0..1] for floats or [0..255] for integers).\n"
          ]
        },
        {
          "data": {
            "text/plain": [
              "<matplotlib.image.AxesImage at 0x7f7857a00b50>"
            ]
          },
          "execution_count": 594,
          "metadata": {},
          "output_type": "execute_result"
        },
        {
          "data": {
            "image/png": "[encoded data removed]",
            "text/plain": [
              "<Figure size 432x288 with 1 Axes>"
            ]
          },
          "metadata": {
            "needs_background": "light"
          },
          "output_type": "display_data"
        }
      ],
      "source": [
        "kernel = np.random.randn(1, 3, 5, 5)\n",
        "plt.imshow(kernel.squeeze().transpose((1, 2, 0)))"
      ]
    },
    {
      "cell_type": "code",
      "execution_count": 595,
      "id": "-Vdd-CcQnUAV",
      "metadata": {
        "colab": {
          "base_uri": "https://localhost:8080/",
          "height": 319
        },
        "id": "-Vdd-CcQnUAV",
        "outputId": "3caa8b8f-9dd5-4424-b9c2-5b1059944202"
      },
      "outputs": [
        {
          "name": "stderr",
          "output_type": "stream",
          "text": [
            "<ipython-input-590-d9f47f75620f>:33: RuntimeWarning: overflow encountered in exp\n",
            "  return 1 / (1 + np.exp(-x))\n"
          ]
        },
        {
          "data": {
            "text/plain": [
              "<matplotlib.image.AxesImage at 0x7f78580599d0>"
            ]
          },
          "execution_count": 595,
          "metadata": {},
          "output_type": "execute_result"
        },
        {
          "data": {
            "image/png": "[encoded data removed]",
            "text/plain": [
              "<Figure size 432x288 with 1 Axes>"
            ]
          },
          "metadata": {
            "needs_background": "light"
          },
          "output_type": "display_data"
        }
      ],
      "source": [
        "output = convolution(iith, kernel, activation='sigmoid')\n",
        "plt.imshow(output.squeeze())"
      ]
    },
    {
      "cell_type": "markdown",
      "id": "j6nLkcb6V47O",
      "metadata": {
        "id": "j6nLkcb6V47O"
      },
      "source": [
        "Observe that using the sigmoid activation causes an overflow for this image, which makes it unsuitable for this scenario"
      ]
    },
    {
      "cell_type": "code",
      "execution_count": 596,
      "id": "tm3AM7EWpW-5",
      "metadata": {
        "colab": {
          "base_uri": "https://localhost:8080/",
          "height": 282
        },
        "id": "tm3AM7EWpW-5",
        "outputId": "7a386833-24d7-458a-9ffa-3810cef56659"
      },
      "outputs": [
        {
          "data": {
            "text/plain": [
              "<matplotlib.image.AxesImage at 0x7f7857464820>"
            ]
          },
          "execution_count": 596,
          "metadata": {},
          "output_type": "execute_result"
        },
        {
          "data": {
            "image/png": "[encoded data removed]",
            "text/plain": [
              "<Figure size 432x288 with 1 Axes>"
            ]
          },
          "metadata": {
            "needs_background": "light"
          },
          "output_type": "display_data"
        }
      ],
      "source": [
        "output = convolution(iith, kernel, stride=2, activation='relu')\n",
        "plt.imshow(output.squeeze())"
      ]
    },
    {
      "cell_type": "code",
      "execution_count": 597,
      "id": "5kmzEcg4pgZT",
      "metadata": {
        "colab": {
          "base_uri": "https://localhost:8080/",
          "height": 284
        },
        "id": "5kmzEcg4pgZT",
        "outputId": "a425ea1c-6e30-49c3-cffa-377363d4290f"
      },
      "outputs": [
        {
          "data": {
            "text/plain": [
              "<matplotlib.image.AxesImage at 0x7f78576ae7f0>"
            ]
          },
          "execution_count": 597,
          "metadata": {},
          "output_type": "execute_result"
        },
        {
          "data": {
            "image/png": "[encoded data removed]",
            "text/plain": [
              "<Figure size 432x288 with 1 Axes>"
            ]
          },
          "metadata": {
            "needs_background": "light"
          },
          "output_type": "display_data"
        }
      ],
      "source": [
        "output = convolution(iith, kernel, padding=5, activation='tanh')\n",
        "plt.imshow(output.squeeze())"
      ]
    },
    {
      "cell_type": "code",
      "execution_count": 598,
      "id": "N3pIvS5ypm29",
      "metadata": {
        "colab": {
          "base_uri": "https://localhost:8080/",
          "height": 284
        },
        "id": "N3pIvS5ypm29",
        "outputId": "3b456081-322f-4a02-a253-6c31dba16f58"
      },
      "outputs": [
        {
          "data": {
            "text/plain": [
              "<matplotlib.image.AxesImage at 0x7f7857c44af0>"
            ]
          },
          "execution_count": 598,
          "metadata": {},
          "output_type": "execute_result"
        },
        {
          "data": {
            "image/png": "[encoded data removed]",
            "text/plain": [
              "<Figure size 432x288 with 1 Axes>"
            ]
          },
          "metadata": {
            "needs_background": "light"
          },
          "output_type": "display_data"
        }
      ],
      "source": [
        "output = convolution(iith, kernel, activation='prelu', parameter=3)\n",
        "plt.imshow(output.squeeze())"
      ]
    },
    {
      "cell_type": "markdown",
      "id": "7a7c5966",
      "metadata": {
        "id": "7a7c5966"
      },
      "source": [
        "## Pooling function"
      ]
    },
    {
      "cell_type": "code",
      "execution_count": 599,
      "id": "a62de455",
      "metadata": {
        "id": "a62de455"
      },
      "outputs": [],
      "source": [
        "def pooling(inputs, kernel_size, function='max', stride=None):\n",
        "    ''' Perform a pooling operation on the given input \n",
        "\n",
        "    Parameters\n",
        "    ----------\n",
        "    inputs : ndarray of shape (N, C, H, W)\n",
        "        N : batch size (number of input images)\n",
        "        C : number of channels in each image\n",
        "        H : height of each image\n",
        "        W : width of each image\n",
        "    kernel_size : int or tuple of ints\n",
        "        Dimensions of the pooling kernel \n",
        "    function : str\n",
        "        Pooling function to be used; can be one of `max`, `min`, `avg`\n",
        "    stride : int or tuple of ints\n",
        "        Stride of pooling along each dimension\n",
        "  \n",
        "    Returns\n",
        "    -------\n",
        "    ndarray of shape (N, C, H', W')\n",
        "        Result of pooling of `inputs`\n",
        "    '''\n",
        "    \n",
        "    N = inputs.shape[0]\n",
        "    C = inputs.shape[1]\n",
        "    H = inputs.shape[2]\n",
        "    W = inputs.shape[3]\n",
        "    \n",
        "    # If `kernel_size` is an integer, use square kernel\n",
        "    if type(kernel_size) == int:\n",
        "        kernel_size = (kernel_size, kernel_size)\n",
        "        \n",
        "    h = kernel_size[0]\n",
        "    w = kernel_size[1]\n",
        "    \n",
        "    # If `stride` is not specifically mentioned, pool in a contiguous non-overlapping manner (default)\n",
        "    if stride is None:\n",
        "        stride = kernel_size\n",
        "    \n",
        "    # If `stride` is an integer, use same stride for both dimensions\n",
        "    if stride is not None and type(stride) == int:\n",
        "        stride = (stride, stride)\n",
        "      \n",
        "    # Compute output shape\n",
        "    H_out = H // stride[0]\n",
        "    W_out = W // stride[1]\n",
        "    output = np.zeros((N, C, H_out, W_out))\n",
        "    \n",
        "    for n in range(N):\n",
        "        for c in range(C):\n",
        "            for i in range(H_out):\n",
        "                for j in range(W_out):\n",
        "                    \n",
        "                    # Max pooling\n",
        "                    if function == 'max':\n",
        "                        output[n, c, i, j] = np.max(inputs[n, c, i*stride[0]:i*stride[0]+h, j*stride[1]:j*stride[1]+w])\n",
        "                    \n",
        "                    # Min pooling\n",
        "                    elif function == 'min':\n",
        "                        output[n, c, i, j] = np.min(inputs[n, c, i*stride[0]:i*stride[0]+h, j*stride[1]:j*stride[1]+w])\n",
        "                    \n",
        "                    # Average pooling\n",
        "                    elif function == 'avg':\n",
        "                        output[n, c, i, j] = np.mean(inputs[n, c, i*stride[0]:i*stride[0]+h, j*stride[1]:j*stride[1]+w])\n",
        "                        \n",
        "                    else:\n",
        "                        raise ValueError(function + ' is not a supported pooling function. Possible choices are max, min, avg')\n",
        "                            \n",
        "    return output\n"
      ]
    },
    {
      "cell_type": "code",
      "execution_count": 600,
      "id": "EcjQc3Z7y-uR",
      "metadata": {
        "colab": {
          "base_uri": "https://localhost:8080/",
          "height": 298
        },
        "id": "EcjQc3Z7y-uR",
        "outputId": "3c15bf74-3b1d-4038-d272-248a439df9ff"
      },
      "outputs": [
        {
          "data": {
            "text/plain": [
              "Text(0.5, 1.0, 'Before pooling')"
            ]
          },
          "execution_count": 600,
          "metadata": {},
          "output_type": "execute_result"
        },
        {
          "data": {
            "image/png": "[encoded data removed]",
            "text/plain": [
              "<Figure size 432x288 with 1 Axes>"
            ]
          },
          "metadata": {
            "needs_background": "light"
          },
          "output_type": "display_data"
        }
      ],
      "source": [
        "plt.imshow(output.squeeze())\n",
        "plt.title('Before pooling')"
      ]
    },
    {
      "cell_type": "code",
      "execution_count": 601,
      "id": "_j3mrArZvvZg",
      "metadata": {
        "colab": {
          "base_uri": "https://localhost:8080/",
          "height": 298
        },
        "id": "_j3mrArZvvZg",
        "outputId": "f478d380-8940-42f1-9f40-0fb05559ecfd"
      },
      "outputs": [
        {
          "data": {
            "text/plain": [
              "Text(0.5, 1.0, 'After pooling')"
            ]
          },
          "execution_count": 601,
          "metadata": {},
          "output_type": "execute_result"
        },
        {
          "data": {
            "image/png": "[encoded data removed]",
            "text/plain": [
              "<Figure size 432x288 with 1 Axes>"
            ]
          },
          "metadata": {
            "needs_background": "light"
          },
          "output_type": "display_data"
        }
      ],
      "source": [
        "output = pooling(output, 2, 'max')\n",
        "plt.imshow(output.squeeze())\n",
        "plt.title('After pooling')"
      ]
    },
    {
      "cell_type": "markdown",
      "id": "8e56b890",
      "metadata": {
        "id": "8e56b890"
      },
      "source": [
        "## Convolution layer"
      ]
    },
    {
      "cell_type": "code",
      "execution_count": 602,
      "id": "9010ebbd",
      "metadata": {
        "id": "9010ebbd"
      },
      "outputs": [],
      "source": [
        "class ConvolutionLayer:\n",
        "    ''' Convolution layer typically used in CNNs. Takes a batch of inputs and performs convolution on them using kernels of specified size.\n",
        "    \n",
        "    Attributes\n",
        "    ----------\n",
        "    num_channels : int\n",
        "        Number of channels in the input images\n",
        "    num_filters : int\n",
        "        Number of filters required\n",
        "    kernel_size : int or tuple of ints\n",
        "        Dimensions of convolutional kernel\n",
        "    stride : int or tuple of ints\n",
        "        Stride of convolution along each dimension\n",
        "    padding : int or tuple of ints\n",
        "        Padding to be applied to the inputs along each dimension\n",
        "    activation : str\n",
        "        Activation function; can be one of `relu`, `sigmoid`, `tanh`, `prelu`\n",
        "    parameter : int\n",
        "        Parameter for the `prelu` activation function\n",
        "    '''\n",
        "    \n",
        "    def __init__(self, num_channels, num_filters, kernel_size, stride=1, padding=0, activation='sigmoid', parameter=None):\n",
        "        \n",
        "        self.num_channels = num_channels\n",
        "        self.num_filters = num_filters\n",
        "        self.stride = stride\n",
        "        self.padding = padding\n",
        "        self.activation = activation\n",
        "        self.parameter = parameter\n",
        "        \n",
        "        # If kernel_size is an integer, use a square kernel\n",
        "        if type(kernel_size) == int:\n",
        "            self.kernel_size = (kernel_size, kernel_size)\n",
        "        else:\n",
        "            self.kernel_size = kernel_size\n",
        "\n",
        "        self.kernels = np.zeros((num_filters, num_channels, kernel_size[0], kernel_size[1]))\n",
        "        self.bias = np.zeros(num_filters)\n",
        "        \n",
        "    def initialize_kernels(self, mode='standard'):\n",
        "        ''' Randomly initialize kernels and bias based on one of three modes: `standard`, `xavier`, `msra` '''\n",
        "        \n",
        "        if mode == 'standard':\n",
        "            std = 1\n",
        "            self.bias = np.random.randn(self.num_filters)\n",
        "            \n",
        "        elif mode == 'xavier':\n",
        "            std = 1 / np.sqrt(self.kernel_size[0] * self.kernel_size[1])\n",
        "            self.bias = np.zeros(self.num_filters)\n",
        "         \n",
        "        elif mode == 'msra':\n",
        "            std = np.sqrt(2 / (self.kernel_size[0] * self.kernel_size[1]))\n",
        "            self.bias = np.zeros(self.num_filters)\n",
        "            \n",
        "        else:\n",
        "            raise ValueError(mode + ' is not a supported initialization mode. Possible choices are standard, msra')\n",
        "            \n",
        "        self.kernels = np.random.randn(self.num_filters, self.num_channels, self.kernel_size[0], self.kernel_size[1]) * std\n",
        "    \n",
        "    def convolve(self, inputs):\n",
        "        ''' Perform the convolution on `inputs` '''\n",
        "        \n",
        "        return convolution(inputs, self.kernels, self.bias, self.stride, self.padding, self.activation, self.parameter)\n",
        "    "
      ]
    },
    {
      "cell_type": "code",
      "execution_count": 603,
      "id": "Tu8r14rh4qCK",
      "metadata": {
        "colab": {
          "base_uri": "https://localhost:8080/"
        },
        "id": "Tu8r14rh4qCK",
        "outputId": "88c32e44-a4c7-4b64-ca13-a4b4f18808ec"
      },
      "outputs": [
        {
          "data": {
            "text/plain": [
              "(1, 3, 50, 50)"
            ]
          },
          "execution_count": 603,
          "metadata": {},
          "output_type": "execute_result"
        }
      ],
      "source": [
        "iith.shape"
      ]
    },
    {
      "cell_type": "code",
      "execution_count": 604,
      "id": "TEOLZgoHIFLc",
      "metadata": {
        "id": "TEOLZgoHIFLc"
      },
      "outputs": [],
      "source": [
        "conv = ConvolutionLayer(3, 10, (5,4), activation='relu')\n",
        "conv.initialize_kernels()"
      ]
    },
    {
      "cell_type": "code",
      "execution_count": 605,
      "id": "9PjFRxTy4jIJ",
      "metadata": {
        "colab": {
          "base_uri": "https://localhost:8080/"
        },
        "id": "9PjFRxTy4jIJ",
        "outputId": "b8520b0d-e69d-4a33-c057-cb6b4bc2d0b8"
      },
      "outputs": [
        {
          "data": {
            "text/plain": [
              "(1, 10, 46, 47)"
            ]
          },
          "execution_count": 605,
          "metadata": {},
          "output_type": "execute_result"
        }
      ],
      "source": [
        "conv.initialize_kernels()\n",
        "output = conv.convolve(iith)\n",
        "output.shape"
      ]
    },
    {
      "cell_type": "markdown",
      "id": "hfZCsWXy5QlN",
      "metadata": {
        "id": "hfZCsWXy5QlN"
      },
      "source": [
        "We can see that the output size is just as expected \\\n",
        "$1$  : number of input images \\\n",
        "$10$ : number of filters \\\n",
        "$46$ : height of output image $= 50 - 5 + 1$ \\\n",
        "$47$ : width of output image $= 50 - 4 + 1$ "
      ]
    },
    {
      "cell_type": "code",
      "execution_count": 606,
      "id": "TdVaG7wH6AWY",
      "metadata": {
        "colab": {
          "base_uri": "https://localhost:8080/",
          "height": 284
        },
        "id": "TdVaG7wH6AWY",
        "outputId": "a3794e88-60da-4241-8bc2-5a4a77e0f215"
      },
      "outputs": [
        {
          "data": {
            "text/plain": [
              "<matplotlib.image.AxesImage at 0x7f7856f81910>"
            ]
          },
          "execution_count": 606,
          "metadata": {},
          "output_type": "execute_result"
        },
        {
          "data": {
            "image/png": "[encoded data removed]",
            "text/plain": [
              "<Figure size 432x288 with 1 Axes>"
            ]
          },
          "metadata": {
            "needs_background": "light"
          },
          "output_type": "display_data"
        }
      ],
      "source": [
        "# Example of one of the filter outputs\n",
        "plt.imshow(output.squeeze()[5])"
      ]
    },
    {
      "cell_type": "markdown",
      "id": "7bb36499",
      "metadata": {
        "id": "7bb36499"
      },
      "source": [
        "## Pooling layer"
      ]
    },
    {
      "cell_type": "code",
      "execution_count": 607,
      "id": "de3bd8b6",
      "metadata": {
        "id": "de3bd8b6"
      },
      "outputs": [],
      "source": [
        "class PoolingLayer:\n",
        "    ''' Pooling layer typically used in CNNs. Takes a batch of inputs and pools them based on a pooling function.\n",
        "\n",
        "    Attributes\n",
        "    ----------\n",
        "    kernel_size : int or tuple of ints\n",
        "        Dimensions of the pooling kernel \n",
        "    function : str\n",
        "        Pooling function to be used; can be one of `max`, `min`, `avg` or `gap` for Global Average Pooling\n",
        "    stride : int or tuple of ints\n",
        "        Stride of pooling along each dimension\n",
        "    '''\n",
        "\n",
        "    def __init__(self, kernel_size=None, function='max', stride=None):\n",
        "        \n",
        "        self.kernel_size = kernel_size\n",
        "        self.function = function\n",
        "        self.stride = stride\n",
        "        \n",
        "    def pool(self, inputs):\n",
        "        \n",
        "        # Global Average Pooling\n",
        "        if self.function == 'gap' or self.kernel_size is None:\n",
        "            return np.squeeze(pooling(inputs, (inputs.shape[2], inputs.shape[3]), 'avg'))\n",
        "        \n",
        "        # Regular pooling\n",
        "        else:\n",
        "            return pooling(inputs, self.kernel_size, self.function, self.stride)"
      ]
    },
    {
      "cell_type": "code",
      "execution_count": 608,
      "id": "o2RocmEc7wOA",
      "metadata": {
        "colab": {
          "base_uri": "https://localhost:8080/"
        },
        "id": "o2RocmEc7wOA",
        "outputId": "4bf490aa-e27a-45a1-e9b9-ad6fad169850"
      },
      "outputs": [
        {
          "data": {
            "text/plain": [
              "(10,)"
            ]
          },
          "execution_count": 608,
          "metadata": {},
          "output_type": "execute_result"
        }
      ],
      "source": [
        "# An example of Global Average Pooling\n",
        "gap = PoolingLayer(function='gap')\n",
        "gap.pool(output).shape"
      ]
    },
    {
      "cell_type": "markdown",
      "id": "UzOfOyGx8nQS",
      "metadata": {
        "id": "UzOfOyGx8nQS"
      },
      "source": [
        "which is as expected because the previous activation volume had $10$ channels, that got condensed into a $10$-element vector"
      ]
    },
    {
      "cell_type": "code",
      "execution_count": 609,
      "id": "Xc6TEydC9A3B",
      "metadata": {
        "colab": {
          "base_uri": "https://localhost:8080/"
        },
        "id": "Xc6TEydC9A3B",
        "outputId": "90334000-490a-4605-9a2e-f0d10c726de3"
      },
      "outputs": [
        {
          "data": {
            "text/plain": [
              "(1, 10, 15, 15)"
            ]
          },
          "execution_count": 609,
          "metadata": {},
          "output_type": "execute_result"
        }
      ],
      "source": [
        "# An example of max pooling\n",
        "maxpool = PoolingLayer((2,2), 'max', stride=3)\n",
        "output = maxpool.pool(output)\n",
        "output.shape"
      ]
    },
    {
      "cell_type": "markdown",
      "id": "MjmScVIpAN1f",
      "metadata": {
        "id": "MjmScVIpAN1f"
      },
      "source": [
        "which is also as expected because $\\left\\lfloor \\frac{46}{3} \\right\\rfloor = \\left\\lfloor \\frac{47}{3} \\right\\rfloor = 15$"
      ]
    },
    {
      "cell_type": "code",
      "execution_count": 610,
      "id": "dOPQEq2hAdDw",
      "metadata": {
        "colab": {
          "base_uri": "https://localhost:8080/",
          "height": 282
        },
        "id": "dOPQEq2hAdDw",
        "outputId": "abb17081-2ada-4f68-ccf5-8352079de76f"
      },
      "outputs": [
        {
          "data": {
            "text/plain": [
              "<matplotlib.image.AxesImage at 0x7f7857acca90>"
            ]
          },
          "execution_count": 610,
          "metadata": {},
          "output_type": "execute_result"
        },
        {
          "data": {
            "image/png": "[encoded data removed]",
            "text/plain": [
              "<Figure size 432x288 with 1 Axes>"
            ]
          },
          "metadata": {
            "needs_background": "light"
          },
          "output_type": "display_data"
        }
      ],
      "source": [
        "# An example of one of the pooled outputs\n",
        "plt.imshow(output.squeeze()[5])"
      ]
    },
    {
      "cell_type": "markdown",
      "id": "bb4d2167",
      "metadata": {
        "id": "bb4d2167"
      },
      "source": [
        "## Flattening"
      ]
    },
    {
      "cell_type": "code",
      "execution_count": 611,
      "id": "cf6a55dd",
      "metadata": {
        "id": "cf6a55dd"
      },
      "outputs": [],
      "source": [
        "class FlatteningLayer:\n",
        "    ''' Flatten an input volume into a vector of desired size \n",
        "\n",
        "    Attributes\n",
        "    ----------\n",
        "    input_size : int or ndarray\n",
        "        Size of the input activation volume or the volume itself\n",
        "    output_size : int\n",
        "        Desired size of flattened output vector\n",
        "    '''\n",
        "    \n",
        "    def __init__(self, input_size, output_size):\n",
        "        \n",
        "        if type(output_size) != int:\n",
        "            raise TypeError('output_size must be an int')\n",
        "        \n",
        "        if type(input_size) != int:\n",
        "            self.input_size = np.array(input_size).size\n",
        "        else:\n",
        "            self.input_size = input_size\n",
        "\n",
        "        self.output_size = output_size\n",
        "        self.weights = np.zeros((output_size, self.input_size))\n",
        "\n",
        "    def initialize_weights(self, mode='standard'):\n",
        "        ''' Initialize the weight matrix associated with the flattening transformation based on one of three modes: standard, xavier, msra '''\n",
        "        \n",
        "        if mode == 'standard':\n",
        "            std = 1\n",
        "            \n",
        "        elif mode == 'xavier':\n",
        "            std = 1 / np.sqrt(self.input_size)\n",
        "            \n",
        "        elif mode == 'msra':\n",
        "            std = np.sqrt(2 / self.input_size)\n",
        "            \n",
        "        else:\n",
        "            raise ValueError(mode + ' is not a supported initialization mode. Possible choices are standard, msra')\n",
        "            \n",
        "        self.weights = np.random.randn(self.output_size, self.input_size) * std\n",
        "                   \n",
        "        \n",
        "    def flatten(self, inputs):\n",
        "        ''' Flatten `inputs` '''\n",
        "       \n",
        "        unraveled_input = np.zeros(self.input_size)\n",
        "        count = 0\n",
        "\n",
        "        # Unravel the input volume into a vector\n",
        "        for n in range(inputs.shape[0]):\n",
        "            for c in range(inputs.shape[1]):\n",
        "                for i in range(inputs.shape[2]):\n",
        "                    for j in range(inputs.shape[3]):\n",
        "\n",
        "                        unraveled_input[count] = inputs[n, c, i, j]\n",
        "                        count += 1\n",
        "\n",
        "        # If desired output size is the same as the size of the unraveled vector, no further transformation is required\n",
        "        if self.input_size == self.output_size:\n",
        "            return unraveled_input\n",
        "\n",
        "        # Otherwise, multiply the unraveled vector with the weight matrix to get a vector of the desired size\n",
        "        else:\n",
        "            return self.weights @ unraveled_input\n"
      ]
    },
    {
      "cell_type": "code",
      "execution_count": 612,
      "id": "Pg1y52fxFfEG",
      "metadata": {
        "colab": {
          "base_uri": "https://localhost:8080/"
        },
        "id": "Pg1y52fxFfEG",
        "outputId": "1d33b402-4b9e-4a85-af47-6abbe500a6a2"
      },
      "outputs": [
        {
          "data": {
            "text/plain": [
              "(1, 10, 15, 15)"
            ]
          },
          "execution_count": 612,
          "metadata": {},
          "output_type": "execute_result"
        }
      ],
      "source": [
        "output.shape"
      ]
    },
    {
      "cell_type": "code",
      "execution_count": 613,
      "id": "y7GgNOzEFidG",
      "metadata": {
        "colab": {
          "base_uri": "https://localhost:8080/"
        },
        "id": "y7GgNOzEFidG",
        "outputId": "a39a9052-c4cf-4db2-94b3-20cf27f1482f"
      },
      "outputs": [
        {
          "data": {
            "text/plain": [
              "(100,)"
            ]
          },
          "execution_count": 613,
          "metadata": {},
          "output_type": "execute_result"
        }
      ],
      "source": [
        "flat = FlatteningLayer(output.size, 100)\n",
        "flat.initialize_weights()\n",
        "output = flat.flatten(output)\n",
        "output.shape"
      ]
    },
    {
      "cell_type": "markdown",
      "id": "E0lySzyTHf7r",
      "metadata": {
        "id": "E0lySzyTHf7r"
      },
      "source": [
        "Thus, a tensor containing $1 \\times 10 \\times 15 \\times 15 = 2250$ elements has been flattened into a vector containing $100$ elements"
      ]
    },
    {
      "cell_type": "markdown",
      "id": "9968b780",
      "metadata": {
        "id": "9968b780"
      },
      "source": [
        "## Multilayer perceptron"
      ]
    },
    {
      "cell_type": "code",
      "execution_count": 614,
      "id": "f416004f",
      "metadata": {
        "id": "f416004f"
      },
      "outputs": [],
      "source": [
        "class MultilayerPerceptron:\n",
        "    ''' A multilayer perceptron network consisting of several hidden layers \n",
        "    \n",
        "    Attributes\n",
        "    ----------\n",
        "    input_size : int\n",
        "        Number of neurons in the input layer\n",
        "    output_size : int\n",
        "        Number of neurons in the output layer\n",
        "    hidden_sizes : List[int]\n",
        "        List of the sizes of the hidden layers\n",
        "    activation : str\n",
        "        Activation function; can be one of `relu`, `sigmoid`, `tanh`, `prelu`\n",
        "    parameter : int\n",
        "        Parameter for the `prelu` activation function\n",
        "    softmax : bool\n",
        "        If True, softmax will be applied at the output layer\n",
        "    '''\n",
        "    \n",
        "    def __init__(self, input_size, output_size, hidden_sizes, activation='sigmoid', parameter=None, softmax=True):\n",
        "        \n",
        "        self.input_size = input_size\n",
        "        self.output_size = output_size\n",
        "        self.hidden_sizes = hidden_sizes\n",
        "        self.hidden_layers = len(hidden_sizes)\n",
        "        self.activation = activation\n",
        "        self.parameter = parameter\n",
        "        self.softmax = softmax\n",
        "        \n",
        "        self.weights = []\n",
        "        self.bias = []\n",
        "        \n",
        "    def initialize_weights(self, mode='standard'):\n",
        "        ''' Initialize the weights and bias of the network using one of three modes: `standard`, `xavier`, `msra` '''\n",
        "        \n",
        "        if mode == 'standard':\n",
        "            \n",
        "            self.weights.append(np.random.randn(self.hidden_sizes[0], self.input_size))\n",
        "            for i in range(1, self.hidden_layers):\n",
        "                self.weights.append(np.random.randn(self.hidden_sizes[i], self.hidden_sizes[i-1]))\n",
        "            self.weights.append(np.random.randn(self.output_size, self.hidden_sizes[-1]))\n",
        "            \n",
        "            for i in range(self.hidden_layers):\n",
        "                self.bias.append(np.random.randn(self.hidden_sizes[i]))\n",
        "            self.bias.append(np.random.randn(self.output_size))\n",
        "        \n",
        "        elif mode == 'xavier':\n",
        "            \n",
        "            self.weights.append(np.random.randn(self.hidden_sizes[0], self.input_size) / np.sqrt(self.input_size))\n",
        "            for i in range(1, self.hidden_layers):\n",
        "                self.weights.append(np.random.randn(self.hidden_sizes[i], self.hidden_sizes[i-1]) / np.sqrt(self.hidden_sizes[i-1]))\n",
        "            self.weights.append(np.random.randn(self.output_size, self.hidden_sizes[-1]) / np.sqrt(self.hidden_sizes[-1]))\n",
        "            \n",
        "            for i in range(self.hidden_layers):\n",
        "                self.bias.append(np.zeros(self.hidden_sizes[i]))\n",
        "            self.bias.append(np.zeros(self.output_size))\n",
        "            \n",
        "        elif mode == 'msra':\n",
        "            \n",
        "            self.weights.append(np.random.randn(self.hidden_sizes[0], self.input_size) * np.sqrt(2 / self.input_size))\n",
        "            for i in range(1, self.hidden_layers):\n",
        "                self.weights.append(np.random.randn(self.hidden_sizes[i], self.hidden_sizes[i-1]) * np.sqrt(2 / self.hidden_sizes[i-1]))\n",
        "            self.weights.append(np.random.randn(self.output_size, self.hidden_sizes[-1]) * np.sqrt(2 / self.hidden_sizes[-1]))\n",
        "            \n",
        "            for i in range(self.hidden_layers):\n",
        "                self.bias.append(np.zeros(self.hidden_sizes[i]))\n",
        "            self.bias.append(np.zeros(self.output_size))\n",
        "            \n",
        "        else:\n",
        "            raise ValueError(mode + ' is not a supported initialization mode. Possible choices are standard, xavier, msra')\n",
        "            \n",
        "    \n",
        "    def softmax_function(self, outputs):\n",
        "        ''' Apply softmax to `outputs` '''\n",
        "        \n",
        "        # Find maximum value which will be subtracted from the exponents to prevent overflow\n",
        "        # This is useful when the elements of `outputs` are very large\n",
        "        # Note the softmax does not change when a fixed number is subtracted from the exponents\n",
        "        max_element = np.max(outputs)\n",
        "\n",
        "        # Total sum of the exponentials\n",
        "        exp_sum = 0\n",
        "        for output in outputs:\n",
        "            exp_sum += np.exp(output - max_element)\n",
        "    \n",
        "        # Dividing each exponential by the total sum\n",
        "        softmax_output = np.zeros(outputs.size)\n",
        "        for i in range(outputs.size):\n",
        "            softmax_output[i] = np.exp(outputs[i] - max_element) / exp_sum\n",
        "            \n",
        "        return softmax_output\n",
        "    \n",
        "    def forward_pass(self, inputs):\n",
        "        ''' Forward pass of `inputs` through the entire MLP '''\n",
        "        \n",
        "        # Activation function\n",
        "        nonlinearity = Activation(self.activation)\n",
        "        output = np.copy(inputs)\n",
        "        \n",
        "        # Compute activations at each layer\n",
        "        for i in range(len(self.weights) - 1):\n",
        "            output = nonlinearity.activate(self.weights[i] @ output + self.bias[i])\n",
        "\n",
        "        # Do not apply activation on the output layer\n",
        "        output = self.weights[-1] @ output + self.bias[-1]\n",
        "        \n",
        "        if self.softmax:\n",
        "            return self.softmax_function(output)\n",
        "        \n",
        "        else:\n",
        "            return output    \n",
        "    "
      ]
    },
    {
      "cell_type": "markdown",
      "id": "BXr1P9JiQual",
      "metadata": {
        "id": "BXr1P9JiQual"
      },
      "source": [
        "Softmax in case of large numbers can be calculated as\n",
        "$$ \\frac{e^{x_i}}{\\sum e^{x_i}} = \\frac{e^{-M}e^{x_i}}{e^{-M}\\sum e^{x_i}} = \\frac{e^{x_i - M}}{\\sum e^{x_i - M}} $$\n",
        "I have chosen $M$ to be $M = \\max x_i$ so that there are no big numbers anymore, only non-positive numbers are present"
      ]
    },
    {
      "cell_type": "code",
      "execution_count": 615,
      "id": "9LscBaPaOTXy",
      "metadata": {
        "colab": {
          "base_uri": "https://localhost:8080/"
        },
        "id": "9LscBaPaOTXy",
        "outputId": "6a72afce-2f73-4251-c8d3-480642cff1e3"
      },
      "outputs": [
        {
          "data": {
            "text/plain": [
              "array([-40209583.50091635, -30630885.74823042,  34681964.44195525,\n",
              "        43230122.09479322,  -9876701.02841351, -12945909.82141238,\n",
              "       -58669905.45992647,   1755144.29410684, -61150135.28372177,\n",
              "       -32979871.94060706])"
            ]
          },
          "execution_count": 615,
          "metadata": {},
          "output_type": "execute_result"
        }
      ],
      "source": [
        "# Output without softmax\n",
        "mlp = MultilayerPerceptron(100, 10, [256, 128], activation='relu', softmax=False)\n",
        "mlp.initialize_weights()\n",
        "mlp.forward_pass(output)"
      ]
    },
    {
      "cell_type": "markdown",
      "id": "me5CcHXGSAYZ",
      "metadata": {
        "id": "me5CcHXGSAYZ"
      },
      "source": [
        "Notice that without softmax, the magnitudes of the outputs are very large"
      ]
    },
    {
      "cell_type": "code",
      "execution_count": 616,
      "id": "V1K66h1-PEKH",
      "metadata": {
        "colab": {
          "base_uri": "https://localhost:8080/"
        },
        "id": "V1K66h1-PEKH",
        "outputId": "7b63f9db-97c8-4323-c6b1-7d0cede033ef"
      },
      "outputs": [
        {
          "data": {
            "text/plain": [
              "array([1., 0., 0., 0., 0., 0., 0., 0., 0., 0.])"
            ]
          },
          "execution_count": 616,
          "metadata": {},
          "output_type": "execute_result"
        }
      ],
      "source": [
        "# Output with softmax\n",
        "mlp = MultilayerPerceptron(100, 10, [256, 128], activation='relu', softmax=True)\n",
        "mlp.initialize_weights()\n",
        "mlp.forward_pass(output)"
      ]
    },
    {
      "cell_type": "markdown",
      "id": "etOsBGGxRbEB",
      "metadata": {
        "id": "etOsBGGxRbEB"
      },
      "source": [
        "There is only one $1$ in the output and the rest are zeroes because one of the output numbers was much larger than the others, which caused its exponential to dominate. In cases like these, the predicted label for the input becomes very clear."
      ]
    },
    {
      "cell_type": "markdown",
      "id": "06cb8d1a",
      "metadata": {
        "id": "06cb8d1a"
      },
      "source": [
        "## Feed forward path"
      ]
    },
    {
      "cell_type": "code",
      "execution_count": 617,
      "id": "c8494608",
      "metadata": {
        "id": "c8494608"
      },
      "outputs": [],
      "source": [
        "class ConvolutionalNeuralNetwork:\n",
        "    ''' Implementation of a full convolutional neural network \n",
        "    \n",
        "    Attributes\n",
        "    ----------\n",
        "    model : List of layer objects\n",
        "        A list consisting of the various layers in a CNN in order with the desired parameters\n",
        "    '''\n",
        "    \n",
        "    def __init__(self, model):\n",
        "        \n",
        "        self.model = model\n",
        "\n",
        "    def initialize_weights(self):\n",
        "        ''' Initialize the weights in all the layers in the model '''\n",
        "\n",
        "        for layer in self.model:\n",
        "            \n",
        "            if type(layer) == ConvolutionLayer:\n",
        "                layer.initialize_kernels('standard')\n",
        "             \n",
        "            elif type(layer) == FlatteningLayer:\n",
        "                layer.initialize_weights('msra')\n",
        "                \n",
        "            elif type(layer) == MultilayerPerceptron:\n",
        "                layer.initialize_weights('xavier')\n",
        "        \n",
        "    def feed_forward(self, inputs):\n",
        "        ''' Feed forward pass through the entire CNN '''\n",
        "        \n",
        "        output = np.copy(inputs)\n",
        "        \n",
        "        for layer in self.model:\n",
        "            \n",
        "            if type(layer) == ConvolutionLayer:\n",
        "                output = layer.convolve(output)\n",
        "                \n",
        "            elif type(layer) == PoolingLayer:\n",
        "                output = layer.pool(output)\n",
        "                \n",
        "            elif type(layer) == FlatteningLayer:\n",
        "                output = layer.flatten(output)\n",
        "                \n",
        "            elif type(layer) == MultilayerPerceptron:\n",
        "                output = layer.forward_pass(output)\n",
        "                \n",
        "        return output"
      ]
    },
    {
      "cell_type": "markdown",
      "id": "73d5aad3",
      "metadata": {
        "id": "73d5aad3"
      },
      "source": [
        "### Model definition"
      ]
    },
    {
      "cell_type": "code",
      "execution_count": 618,
      "id": "0a05fb64",
      "metadata": {
        "id": "0a05fb64"
      },
      "outputs": [],
      "source": [
        "model = [\n",
        "    ConvolutionLayer(3, 16, (3,3), activation='sigmoid'),\n",
        "    PoolingLayer((2,2), 'max', stride=2),\n",
        "    ConvolutionLayer(16, 8, (3,3), activation='sigmoid'),\n",
        "    PoolingLayer((2,2), 'max', stride=2),\n",
        "    PoolingLayer(function='gap'),\n",
        "    MultilayerPerceptron(8, 10, [8], activation='sigmoid', softmax=True)\n",
        "]\n",
        "\n",
        "cnn = ConvolutionalNeuralNetwork(model)\n",
        "cnn.initialize_weights()"
      ]
    },
    {
      "cell_type": "code",
      "execution_count": 619,
      "id": "0c3f1bf1",
      "metadata": {
        "colab": {
          "base_uri": "https://localhost:8080/"
        },
        "id": "0c3f1bf1",
        "outputId": "106822eb-d83c-489f-e89f-02a17b7a4847"
      },
      "outputs": [
        {
          "data": {
            "text/plain": [
              "array([0.09014825, 0.06712615, 0.27570548, 0.09113668, 0.13503372,\n",
              "       0.03155679, 0.03458249, 0.02748823, 0.07247213, 0.17475008])"
            ]
          },
          "execution_count": 619,
          "metadata": {},
          "output_type": "execute_result"
        }
      ],
      "source": [
        "sample_input = np.random.randn(1, 3, 32, 32)\n",
        "cnn.feed_forward(sample_input)"
      ]
    },
    {
      "cell_type": "markdown",
      "id": "f074477b",
      "metadata": {
        "id": "f074477b"
      },
      "source": [
        "## CIFAR-10 testing"
      ]
    },
    {
      "cell_type": "markdown",
      "id": "ca312bda",
      "metadata": {
        "id": "ca312bda"
      },
      "source": [
        "### Loading the dataset"
      ]
    },
    {
      "cell_type": "code",
      "execution_count": 620,
      "id": "6deec490",
      "metadata": {
        "colab": {
          "base_uri": "https://localhost:8080/"
        },
        "id": "6deec490",
        "outputId": "69a7ebb7-4cf2-4866-fbde-36abfefa93a6"
      },
      "outputs": [
        {
          "name": "stdout",
          "output_type": "stream",
          "text": [
            "Files already downloaded and verified\n"
          ]
        }
      ],
      "source": [
        "import torch\n",
        "import torchvision\n",
        "import torchvision.transforms as transforms\n",
        "\n",
        "transform = transforms.Compose([transforms.ToTensor()])\n",
        "batch_size = 1\n",
        "\n",
        "dataset = torchvision.datasets.CIFAR10(root='./data', download=True, transform=transform)\n",
        "dataloader = torch.utils.data.DataLoader(dataset, batch_size=batch_size, shuffle=False)\n",
        "datalist = list(dataloader)"
      ]
    },
    {
      "cell_type": "code",
      "execution_count": 621,
      "id": "sMlnLLk2W58v",
      "metadata": {
        "colab": {
          "base_uri": "https://localhost:8080/",
          "height": 318
        },
        "id": "sMlnLLk2W58v",
        "outputId": "0eda4ce3-56aa-4580-c4d0-511bb063b89d"
      },
      "outputs": [
        {
          "name": "stdout",
          "output_type": "stream",
          "text": [
            "torch.Size([1, 3, 32, 32])\n",
            "[0.08959214 0.06686905 0.2810067  0.08897933 0.13385271 0.03173595\n",
            " 0.03348997 0.02914968 0.0721741  0.17315036]\n"
          ]
        },
        {
          "data": {
            "image/png": "[encoded data removed]",
            "text/plain": [
              "<Figure size 432x288 with 1 Axes>"
            ]
          },
          "metadata": {
            "needs_background": "light"
          },
          "output_type": "display_data"
        }
      ],
      "source": [
        "# Verifying if the CNN model takes an image input and produces a 10-element vector\n",
        "image = datalist[0][0]\n",
        "plt.imshow(torch.permute(image.squeeze(), (1, 2, 0)).numpy())\n",
        "print(image.shape)\n",
        "print(cnn.feed_forward(image.numpy()))"
      ]
    },
    {
      "cell_type": "markdown",
      "id": "fUfDmiabX8_q",
      "metadata": {
        "id": "fUfDmiabX8_q"
      },
      "source": [
        "We can see that the CNN produces a vector consisting of $10$ elements"
      ]
    },
    {
      "cell_type": "markdown",
      "id": "eR9ed8pF22yz",
      "metadata": {
        "id": "eR9ed8pF22yz"
      },
      "source": [
        "### Output for an image from each class"
      ]
    },
    {
      "cell_type": "code",
      "execution_count": 622,
      "id": "416c12e9",
      "metadata": {
        "colab": {
          "base_uri": "https://localhost:8080/",
          "height": 301
        },
        "id": "416c12e9",
        "outputId": "1e56e186-4e2d-444c-b9ec-6fb7e2ad06cb"
      },
      "outputs": [
        {
          "name": "stdout",
          "output_type": "stream",
          "text": [
            "[0.09153395 0.06703983 0.27202577 0.08913083 0.13528312 0.03350205\n",
            " 0.03479033 0.02947142 0.07377214 0.17345057]\n"
          ]
        },
        {
          "data": {
            "image/png": "[encoded data removed]",
            "text/plain": [
              "<Figure size 432x288 with 1 Axes>"
            ]
          },
          "metadata": {
            "needs_background": "light"
          },
          "output_type": "display_data"
        }
      ],
      "source": [
        "for i in range(len(datalist)):\n",
        "    if datalist[i][1].item() == 0:\n",
        "        plt.imshow(torch.permute(datalist[i][0].squeeze(), (1, 2, 0)).numpy())\n",
        "        print(cnn.feed_forward(datalist[i][0].numpy()))\n",
        "        break"
      ]
    },
    {
      "cell_type": "code",
      "execution_count": 623,
      "id": "Dp6Jakhh2VsN",
      "metadata": {
        "colab": {
          "base_uri": "https://localhost:8080/",
          "height": 301
        },
        "id": "Dp6Jakhh2VsN",
        "outputId": "af6593b2-4845-4010-e35c-4a72913755c8"
      },
      "outputs": [
        {
          "name": "stdout",
          "output_type": "stream",
          "text": [
            "[0.09311814 0.0672407  0.26550549 0.08940034 0.13594857 0.03475995\n",
            " 0.03581968 0.02965845 0.07472893 0.17381974]\n"
          ]
        },
        {
          "data": {
            "image/png": "[encoded data removed]",
            "text/plain": [
              "<Figure size 432x288 with 1 Axes>"
            ]
          },
          "metadata": {
            "needs_background": "light"
          },
          "output_type": "display_data"
        }
      ],
      "source": [
        "for i in range(len(datalist)):\n",
        "    if datalist[i][1].item() == 1:\n",
        "        plt.imshow(torch.permute(datalist[i][0].squeeze(), (1, 2, 0)).numpy())\n",
        "        print(cnn.feed_forward(datalist[i][0].numpy()))\n",
        "        break"
      ]
    },
    {
      "cell_type": "code",
      "execution_count": 624,
      "id": "JbjJ17X42emj",
      "metadata": {
        "colab": {
          "base_uri": "https://localhost:8080/",
          "height": 301
        },
        "id": "JbjJ17X42emj",
        "outputId": "ada648d1-4446-444d-98d8-bebbfb6d1101"
      },
      "outputs": [
        {
          "name": "stdout",
          "output_type": "stream",
          "text": [
            "[0.08968555 0.06717118 0.2756019  0.08895511 0.13761791 0.03276826\n",
            " 0.03429993 0.02899152 0.07488683 0.17002181]\n"
          ]
        },
        {
          "data": {
            "image/png": "[encoded data removed]",
            "text/plain": [
              "<Figure size 432x288 with 1 Axes>"
            ]
          },
          "metadata": {
            "needs_background": "light"
          },
          "output_type": "display_data"
        }
      ],
      "source": [
        "for i in range(len(datalist)):\n",
        "    if datalist[i][1].item() == 2:\n",
        "        plt.imshow(torch.permute(datalist[i][0].squeeze(), (1, 2, 0)).numpy())\n",
        "        print(cnn.feed_forward(datalist[i][0].numpy()))\n",
        "        break"
      ]
    },
    {
      "cell_type": "code",
      "execution_count": 625,
      "id": "1DvxATcm2kXS",
      "metadata": {
        "colab": {
          "base_uri": "https://localhost:8080/",
          "height": 301
        },
        "id": "1DvxATcm2kXS",
        "outputId": "1ce3b6ab-25b2-4dc8-82ed-2ddd04011616"
      },
      "outputs": [
        {
          "name": "stdout",
          "output_type": "stream",
          "text": [
            "[0.09055059 0.06658077 0.28190219 0.08826532 0.13052768 0.03202411\n",
            " 0.03316714 0.03044996 0.07032624 0.17620602]\n"
          ]
        },
        {
          "data": {
            "image/png": "[encoded data removed]",
            "text/plain": [
              "<Figure size 432x288 with 1 Axes>"
            ]
          },
          "metadata": {
            "needs_background": "light"
          },
          "output_type": "display_data"
        }
      ],
      "source": [
        "for i in range(len(datalist)):\n",
        "    if datalist[i][1].item() == 3:\n",
        "        plt.imshow(torch.permute(datalist[i][0].squeeze(), (1, 2, 0)).numpy())\n",
        "        print(cnn.feed_forward(datalist[i][0].numpy()))\n",
        "        break"
      ]
    },
    {
      "cell_type": "code",
      "execution_count": 626,
      "id": "udAXKIT72mLu",
      "metadata": {
        "colab": {
          "base_uri": "https://localhost:8080/",
          "height": 301
        },
        "id": "udAXKIT72mLu",
        "outputId": "918d310c-8972-48fe-b864-d1bd69e192fb"
      },
      "outputs": [
        {
          "name": "stdout",
          "output_type": "stream",
          "text": [
            "[0.08997497 0.06663587 0.28287218 0.0884762  0.13131317 0.03169551\n",
            " 0.03308582 0.02999015 0.07065813 0.17529799]\n"
          ]
        },
        {
          "data": {
            "image/png": "[encoded data removed]",
            "text/plain": [
              "<Figure size 432x288 with 1 Axes>"
            ]
          },
          "metadata": {
            "needs_background": "light"
          },
          "output_type": "display_data"
        }
      ],
      "source": [
        "for i in range(len(datalist)):\n",
        "    if datalist[i][1].item() == 4:\n",
        "        plt.imshow(torch.permute(datalist[i][0].squeeze(), (1, 2, 0)).numpy())\n",
        "        print(cnn.feed_forward(datalist[i][0].numpy()))\n",
        "        break"
      ]
    },
    {
      "cell_type": "code",
      "execution_count": 627,
      "id": "-703I-Pb2poA",
      "metadata": {
        "colab": {
          "base_uri": "https://localhost:8080/",
          "height": 301
        },
        "id": "-703I-Pb2poA",
        "outputId": "2966c2d9-c7d3-46e8-8a57-3905ba7893cc"
      },
      "outputs": [
        {
          "name": "stdout",
          "output_type": "stream",
          "text": [
            "[0.09131607 0.06659222 0.27856643 0.08882355 0.13094534 0.03241626\n",
            " 0.03375674 0.0299144  0.07074315 0.17692583]\n"
          ]
        },
        {
          "data": {
            "image/png": "[encoded data removed]",
            "text/plain": [
              "<Figure size 432x288 with 1 Axes>"
            ]
          },
          "metadata": {
            "needs_background": "light"
          },
          "output_type": "display_data"
        }
      ],
      "source": [
        "for i in range(len(datalist)):\n",
        "    if datalist[i][1].item() == 5:\n",
        "        plt.imshow(torch.permute(datalist[i][0].squeeze(), (1, 2, 0)).numpy())\n",
        "        print(cnn.feed_forward(datalist[i][0].numpy()))\n",
        "        break"
      ]
    },
    {
      "cell_type": "code",
      "execution_count": 628,
      "id": "-TJt4ZXA2rnR",
      "metadata": {
        "colab": {
          "base_uri": "https://localhost:8080/",
          "height": 301
        },
        "id": "-TJt4ZXA2rnR",
        "outputId": "0187d111-abb4-4dbc-a9dd-1a6f88c4b7f9"
      },
      "outputs": [
        {
          "name": "stdout",
          "output_type": "stream",
          "text": [
            "[0.08959214 0.06686905 0.2810067  0.08897933 0.13385271 0.03173595\n",
            " 0.03348997 0.02914968 0.0721741  0.17315036]\n"
          ]
        },
        {
          "data": {
            "image/png": "[encoded data removed]",
            "text/plain": [
              "<Figure size 432x288 with 1 Axes>"
            ]
          },
          "metadata": {
            "needs_background": "light"
          },
          "output_type": "display_data"
        }
      ],
      "source": [
        "for i in range(len(datalist)):\n",
        "    if datalist[i][1].item() == 6:\n",
        "        plt.imshow(torch.permute(datalist[i][0].squeeze(), (1, 2, 0)).numpy())\n",
        "        print(cnn.feed_forward(datalist[i][0].numpy()))\n",
        "        break"
      ]
    },
    {
      "cell_type": "code",
      "execution_count": 629,
      "id": "jpyziKS-2taQ",
      "metadata": {
        "colab": {
          "base_uri": "https://localhost:8080/",
          "height": 301
        },
        "id": "jpyziKS-2taQ",
        "outputId": "f6ef5394-5053-4cbc-a19d-4750d5463545"
      },
      "outputs": [
        {
          "name": "stdout",
          "output_type": "stream",
          "text": [
            "[0.08995225 0.06696221 0.27772288 0.08903757 0.13530956 0.03235312\n",
            " 0.03398294 0.02906864 0.07331476 0.17229608]\n"
          ]
        },
        {
          "data": {
            "image/png": "[encoded data removed]",
            "text/plain": [
              "<Figure size 432x288 with 1 Axes>"
            ]
          },
          "metadata": {
            "needs_background": "light"
          },
          "output_type": "display_data"
        }
      ],
      "source": [
        "for i in range(len(datalist)):\n",
        "    if datalist[i][1].item() == 7:\n",
        "        plt.imshow(torch.permute(datalist[i][0].squeeze(), (1, 2, 0)).numpy())\n",
        "        print(cnn.feed_forward(datalist[i][0].numpy()))\n",
        "        break"
      ]
    },
    {
      "cell_type": "code",
      "execution_count": 630,
      "id": "0svYalsV2u61",
      "metadata": {
        "colab": {
          "base_uri": "https://localhost:8080/",
          "height": 301
        },
        "id": "0svYalsV2u61",
        "outputId": "c1a17c64-3329-4b4d-8007-89c418b87607"
      },
      "outputs": [
        {
          "name": "stdout",
          "output_type": "stream",
          "text": [
            "[0.0943102  0.06812385 0.25248203 0.08929167 0.1420791  0.03760283\n",
            " 0.03785056 0.03016255 0.07983551 0.1682617 ]\n"
          ]
        },
        {
          "data": {
            "image/png": "[encoded data removed]",
            "text/plain": [
              "<Figure size 432x288 with 1 Axes>"
            ]
          },
          "metadata": {
            "needs_background": "light"
          },
          "output_type": "display_data"
        }
      ],
      "source": [
        "for i in range(len(datalist)):\n",
        "    if datalist[i][1].item() == 8:\n",
        "        plt.imshow(torch.permute(datalist[i][0].squeeze(), (1, 2, 0)).numpy())\n",
        "        print(cnn.feed_forward(datalist[i][0].numpy()))\n",
        "        break"
      ]
    },
    {
      "cell_type": "code",
      "execution_count": 631,
      "id": "iJCc00BZ2wbg",
      "metadata": {
        "colab": {
          "base_uri": "https://localhost:8080/",
          "height": 301
        },
        "id": "iJCc00BZ2wbg",
        "outputId": "f14ea430-4d90-4247-8186-715ddca64378"
      },
      "outputs": [
        {
          "name": "stdout",
          "output_type": "stream",
          "text": [
            "[0.0918706  0.067469   0.26568925 0.08929243 0.13900843 0.03467197\n",
            " 0.03579241 0.02929825 0.0765694  0.17033827]\n"
          ]
        },
        {
          "data": {
            "image/png": "[encoded data removed]",
            "text/plain": [
              "<Figure size 432x288 with 1 Axes>"
            ]
          },
          "metadata": {
            "needs_background": "light"
          },
          "output_type": "display_data"
        }
      ],
      "source": [
        "for i in range(len(datalist)):\n",
        "    if datalist[i][1].item() == 9:\n",
        "        plt.imshow(torch.permute(datalist[i][0].squeeze(), (1, 2, 0)).numpy())\n",
        "        print(cnn.feed_forward(datalist[i][0].numpy()))\n",
        "        break"
      ]
    },
    {
      "cell_type": "markdown",
      "id": "k2J3m5g33ib_",
      "metadata": {
        "id": "k2J3m5g33ib_"
      },
      "source": [
        "We can see that no matter which class the image is from, the output vector is approximately the same for all. This is perhaps because the kernels and weights are randomly initialized using Xavier and MSRA initialization. Standard initialization gives considerable variance in each of the output vectors."
      ]
    },
    {
      "cell_type": "markdown",
      "id": "eEwQ_CQv4DjZ",
      "metadata": {
        "id": "eEwQ_CQv4DjZ"
      },
      "source": [
        "### Visualizing the bottleneck layer"
      ]
    },
    {
      "cell_type": "code",
      "execution_count": 632,
      "id": "8mi7MayM4IP-",
      "metadata": {
        "id": "8mi7MayM4IP-"
      },
      "outputs": [],
      "source": [
        "# Output of the bottleneck_model will be the output of Global Average Pooling layer which is the flattening layer here\n",
        "bottleneck_model = [\n",
        "    ConvolutionLayer(3, 16, (3,3), activation='sigmoid'),\n",
        "    PoolingLayer((2,2), 'max', stride=2),\n",
        "    ConvolutionLayer(16, 8, (3,3), activation='sigmoid'),\n",
        "    PoolingLayer((2,2), 'max', stride=2),\n",
        "    PoolingLayer(function='gap')\n",
        "]\n",
        "\n",
        "bottleneck_cnn = ConvolutionalNeuralNetwork(bottleneck_model)\n",
        "bottleneck_cnn.initialize_weights()"
      ]
    },
    {
      "cell_type": "code",
      "execution_count": 633,
      "id": "k9xoF3CB5h7f",
      "metadata": {
        "colab": {
          "base_uri": "https://localhost:8080/"
        },
        "id": "k9xoF3CB5h7f",
        "outputId": "40ab1f94-d36f-4ee2-f8ac-470d70250089"
      },
      "outputs": [
        {
          "data": {
            "text/plain": [
              "(30, 2)"
            ]
          },
          "execution_count": 633,
          "metadata": {},
          "output_type": "execute_result"
        }
      ],
      "source": [
        "from sklearn.decomposition import PCA\n",
        "\n",
        "# Reduce dimensionality to 2 for plotting\n",
        "pca = PCA(n_components=2)\n",
        "bottleneck_data = []\n",
        "\n",
        "# Add 3 images from each class to `bottleneck_data`\n",
        "for c in range(10):\n",
        "\n",
        "    count = 0\n",
        "    for i in range(len(datalist)):\n",
        "\n",
        "        if datalist[i][1].item() == c:\n",
        "            bottleneck_data.append(bottleneck_cnn.feed_forward(datalist[i][0].numpy()))\n",
        "            count += 1\n",
        "        \n",
        "        if count == 3:\n",
        "            break\n",
        "\n",
        "pca_output = pca.fit_transform(np.array(bottleneck_data))\n",
        "pca_output.shape"
      ]
    },
    {
      "cell_type": "code",
      "execution_count": 634,
      "id": "TGsjzcHP_Vtm",
      "metadata": {
        "colab": {
          "base_uri": "https://localhost:8080/",
          "height": 298
        },
        "id": "TGsjzcHP_Vtm",
        "outputId": "24e41ca5-cdd5-442d-b6cb-4eec0ca2bbec"
      },
      "outputs": [
        {
          "data": {
            "text/plain": [
              "Text(0.5, 1.0, 'Plot of bottleneck layer output (after PCA)')"
            ]
          },
          "execution_count": 634,
          "metadata": {},
          "output_type": "execute_result"
        },
        {
          "data": {
            "image/png": "[encoded data removed]",
            "text/plain": [
              "<Figure size 432x288 with 1 Axes>"
            ]
          },
          "metadata": {
            "needs_background": "light"
          },
          "output_type": "display_data"
        }
      ],
      "source": [
        "# Each class has its own dot colour\n",
        "for i in range(10):\n",
        "    plt.scatter(pca_output[i*3:(i+1)*3, 0], pca_output[i*3:(i+1)*3, 1])\n",
        "plt.title('Plot of bottleneck layer output (after PCA)')"
      ]
    },
    {
      "cell_type": "markdown",
      "id": "x7_PVG-vBkgZ",
      "metadata": {
        "id": "x7_PVG-vBkgZ"
      },
      "source": [
        "A randomly initialized network does not show any discriminability as we have already seen that the network produces nearly the same output for every class. This is also evident from the above plot where the bottleneck output seems to be arbitrarily scattered irrespective of the class the input belongs to."
      ]
    }
  ],
  "metadata": {
    "colab": {
      "provenance": []
    },
    "kernelspec": {
      "display_name": "Python 3 (ipykernel)",
      "language": "python",
      "name": "python3"
    },
    "language_info": {
      "codemirror_mode": {
        "name": "ipython",
        "version": 3
      },
      "file_extension": ".py",
      "mimetype": "text/x-python",
      "name": "python",
      "nbconvert_exporter": "python",
      "pygments_lexer": "ipython3",
      "version": "3.11.1"
    }
  },
  "nbformat": 4,
  "nbformat_minor": 5
}
