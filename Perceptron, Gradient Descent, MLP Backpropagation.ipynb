{
 "cells": [
  {
   "cell_type": "markdown",
   "id": "9f852861",
   "metadata": {},
   "source": [
    "Name: Pranay Jain \\\n",
    "Roll number: AI22BTECH11020"
   ]
  },
  {
   "cell_type": "code",
   "execution_count": 1,
   "id": "1cec4a4e",
   "metadata": {},
   "outputs": [],
   "source": [
    "import numpy as np\n",
    "import matplotlib.pyplot as plt\n"
   ]
  },
  {
   "cell_type": "markdown",
   "id": "bb2f8537",
   "metadata": {},
   "source": [
    "## Problem 1: Perceptron Learning Algorithm"
   ]
  },
  {
   "cell_type": "code",
   "execution_count": 2,
   "id": "8021a50b",
   "metadata": {},
   "outputs": [],
   "source": [
    "class PerceptronLearning:\n",
    "        \n",
    "    def __init__(self, gamma, number_of_points):\n",
    "        \n",
    "        self.gamma = gamma # Margin of the classifier (level of separability)\n",
    "        self.number_of_points = number_of_points # Number of points in each category\n",
    "        self.positive_samples = []\n",
    "        self.negative_samples = []\n",
    "    \n",
    "    # Randomly generates a 2D linearly separable dataset with separation gamma\n",
    "    def generate_dataset(self):\n",
    "        \n",
    "        standard_deviation = 5 * self.gamma # Standard deviation of the distribution of the randomly generated inputs\n",
    "        positive_count = 0\n",
    "        negative_count = 0\n",
    "        self.positive_samples = []\n",
    "        self.negative_samples = []\n",
    "        \n",
    "        weights = np.random.rand(3) # True classifier (including the bias term)\n",
    "        weights /= np.linalg.norm(weights) # Normalizing the weight vector\n",
    "        \n",
    "        # Keep generating points until both categories have at least number_of_points samples\n",
    "        while positive_count < self.number_of_points or negative_count < self.number_of_points:\n",
    "            \n",
    "                x = np.random.randn(2) * standard_deviation # Mean is at the origin\n",
    "                x = np.array([x[0], x[1], 1]) # Appending 1 to the sample for multiplication with the bias term\n",
    "                \n",
    "                if x @ weights > self.gamma:\n",
    "                    self.positive_samples.append(np.array([x[0], x[1], 1])) # Appending the label to the sample\n",
    "                    positive_count += 1\n",
    "                    \n",
    "                elif x @ weights < - self.gamma:\n",
    "                    self.negative_samples.append(np.array([x[0], x[1], -1])) # Appending the label to the sample\n",
    "                    negative_count += 1\n",
    "                    \n",
    "        return self.positive_samples, self.negative_samples\n",
    "    \n",
    "    # Performs perceptron training algorithm for a maximum number of max_epochs epochs\n",
    "    def train(self, max_epochs):\n",
    "        \n",
    "        weights = np.zeros(3) # Initial weights\n",
    "        dataset = self.positive_samples + self.negative_samples # Concatenating both positive and negative samples\n",
    "        np.random.shuffle(dataset) # Shuffling the dataset \n",
    "        iterations = 0 # Total number of iterations (changes to weights) required until convergence\n",
    "        \n",
    "        # Keep iterating through the dataset until all points are correctly classified\n",
    "        for epoch in range(max_epochs):\n",
    "            \n",
    "            misclassifications = 0\n",
    "            \n",
    "            for data in dataset:\n",
    "                x = np.array([data[0], data[1], 1]) # Input concatenated with 1\n",
    "                y = data[2] # Label corresponding to input\n",
    "                \n",
    "                if y * (weights @ x) <= 0: # The input was misclassified\n",
    "                    misclassifications += 1\n",
    "                    iterations += 1\n",
    "                    weights += y * x\n",
    "               \n",
    "            if not misclassifications: # All inputs are correctly classified\n",
    "                break\n",
    "                \n",
    "        return weights, iterations"
   ]
  },
  {
   "cell_type": "markdown",
   "id": "dbf99202",
   "metadata": {},
   "source": [
    "### Generating and plotting the dataset"
   ]
  },
  {
   "cell_type": "code",
   "execution_count": 3,
   "id": "8a9630b2",
   "metadata": {},
   "outputs": [
    {
     "data": {
      "text/plain": [
       "Text(0.5, 1.0, 'Dataset')"
      ]
     },
     "execution_count": 3,
     "metadata": {},
     "output_type": "execute_result"
    },
    {
     "data": {
      "image/png": "[encoded data removed]",
      "text/plain": [
       "<Figure size 432x288 with 1 Axes>"
      ]
     },
     "metadata": {
      "needs_background": "light"
     },
     "output_type": "display_data"
    }
   ],
   "source": [
    "perceptron = PerceptronLearning(20, 1000)\n",
    "pos, neg = perceptron.generate_dataset()\n",
    "\n",
    "plt.scatter([x[0] for x in pos], [x[1] for x in pos], color='g')\n",
    "plt.scatter([x[0] for x in neg], [x[1] for x in neg], color='r')\n",
    "plt.title('Dataset')"
   ]
  },
  {
   "cell_type": "markdown",
   "id": "2738c038",
   "metadata": {},
   "source": [
    "This is what the linearly separable training dataset looks like \n",
    "\n",
    "The green points represent positive samples with label $1$ and the red points represent negative samples with label $-1$"
   ]
  },
  {
   "cell_type": "markdown",
   "id": "f8f275f8",
   "metadata": {},
   "source": [
    "### Training the classifier"
   ]
  },
  {
   "cell_type": "code",
   "execution_count": 4,
   "id": "73b07110",
   "metadata": {},
   "outputs": [
    {
     "name": "stdout",
     "output_type": "stream",
     "text": [
      "11\n"
     ]
    },
    {
     "data": {
      "text/plain": [
       "Text(0.5, 1.0, 'Trained Perceptron Classifier')"
      ]
     },
     "execution_count": 4,
     "metadata": {},
     "output_type": "execute_result"
    },
    {
     "data": {
      "image/png": "[encoded data removed]",
      "text/plain": [
       "<Figure size 432x288 with 1 Axes>"
      ]
     },
     "metadata": {
      "needs_background": "light"
     },
     "output_type": "display_data"
    }
   ],
   "source": [
    "W, iters = perceptron.train(1000)\n",
    "X = np.linspace(-300, 300, 100)\n",
    "Y = - (W[0] / W[1]) * X - (W[2] / W[1]) # Equation of the line is W[0]*X + W[1]*Y + W[2] = 0\n",
    "print(iters)\n",
    "\n",
    "plt.plot(X, Y)\n",
    "plt.scatter([x[0] for x in pos], [x[1] for x in pos], color='g')\n",
    "plt.scatter([x[0] for x in neg], [x[1] for x in neg], color='r')\n",
    "plt.title('Trained Perceptron Classifier')"
   ]
  },
  {
   "cell_type": "markdown",
   "id": "d802f19a",
   "metadata": {},
   "source": [
    "We can see that the obtained classifier is able to perfectly classify the dataset in $11$ iterations"
   ]
  },
  {
   "cell_type": "markdown",
   "id": "3d994afc",
   "metadata": {},
   "source": [
    "### Analysis of margin vs iterations"
   ]
  },
  {
   "cell_type": "code",
   "execution_count": 5,
   "id": "c30f7108",
   "metadata": {},
   "outputs": [
    {
     "data": {
      "text/plain": [
       "Text(0.5, 1.0, 'Average number of iterations vs level of separability')"
      ]
     },
     "execution_count": 5,
     "metadata": {},
     "output_type": "execute_result"
    },
    {
     "data": {
      "image/png": "[encoded data removed]",
      "text/plain": [
       "<Figure size 432x288 with 1 Axes>"
      ]
     },
     "metadata": {
      "needs_background": "light"
     },
     "output_type": "display_data"
    }
   ],
   "source": [
    "gammas = [10, 50, 100, 500, 1000] # Values of gamma for testing\n",
    "K = [] # List to store the average number of iterations required for each gamma\n",
    "\n",
    "for gamma in gammas:\n",
    "    perceptron = PerceptronLearning(gamma, 1000)\n",
    "    total_iters = 0\n",
    "    \n",
    "    for i in range(5): # 5 times for each value of gamma\n",
    "        pos, neg = perceptron.generate_dataset()\n",
    "        _, iters = perceptron.train(1000)\n",
    "        total_iters += iters\n",
    "        \n",
    "    K.append(total_iters / 5) # Average number of iterations requried\n",
    "    \n",
    "plt.plot(gammas, K)\n",
    "plt.xlabel('$\\gamma$')\n",
    "plt.ylabel('$k_{\\mathrm{avg}}$')\n",
    "plt.title('Average number of iterations vs level of separability')"
   ]
  },
  {
   "cell_type": "markdown",
   "id": "68a96588",
   "metadata": {},
   "source": [
    "We can observe that as the level of separability increases, we require less number of iterations for perfect classification on average, which makes sense because the farther apart the dataset, the easier it is to classify it\n",
    "\n",
    "The plot is also in line with the theoretical upper bound on $k$\n",
    "$$k_{\\max} \\propto \\frac{1}{\\gamma^2}$$"
   ]
  },
  {
   "cell_type": "markdown",
   "id": "7f1273b0",
   "metadata": {},
   "source": [
    "## Problem 2: Gradient Descent"
   ]
  },
  {
   "cell_type": "markdown",
   "id": "09bcc23c",
   "metadata": {},
   "source": [
    "### Loss formulation"
   ]
  },
  {
   "cell_type": "markdown",
   "id": "a5bfe667",
   "metadata": {},
   "source": [
    "Regular 0-1 loss is not even continuous and hinge loss is not differentiable, so they cannot be used for gradient descent\n",
    "\n",
    "Alternatively, we can use a smoothened version of hinge loss \\\n",
    "Regular hinge loss is given by\n",
    "$$ l(y, \\mathbf{w}, \\mathbf{x}) = \\max(0, 1 - y \\mathbf{w}^\\top \\mathbf{x}) $$"
   ]
  },
  {
   "cell_type": "code",
   "execution_count": 6,
   "id": "30369714",
   "metadata": {},
   "outputs": [
    {
     "data": {
      "image/png": "[encoded data removed]",
      "text/plain": [
       "<Figure size 432x288 with 1 Axes>"
      ]
     },
     "metadata": {
      "needs_background": "light"
     },
     "output_type": "display_data"
    }
   ],
   "source": [
    "# Plotting hinge loss\n",
    "def hinge_loss(t):\n",
    "    return max(0, 1 - t)\n",
    "\n",
    "# Vectorize the loss function so that it can be applied to an array\n",
    "hinge_loss_vec = np.vectorize(hinge_loss) \n",
    "\n",
    "T = np.linspace(-5, 7, 100)\n",
    "plt.plot(T, hinge_loss_vec(T))\n",
    "plt.xlabel('$y (\\mathbf{w} \\cdot \\mathbf{x}) $')\n",
    "plt.ylabel('$l(y, \\mathbf{w}, \\mathbf{x})$')\n",
    "plt.title('Hinge Loss')\n",
    "plt.grid()"
   ]
  },
  {
   "cell_type": "markdown",
   "id": "b9e877b3",
   "metadata": {},
   "source": [
    "There is non-differentiability at the point where it meets the $x$-axis \\\n",
    "We can keep the same hinge loss for $x < 0$ and introduce a quadratic approximation that smoothens the part between the points $(0,1)$ and the intersection with the $x$-axis, call it $(r, 0)$. Beyond $x = r$, the loss is $0$\n",
    "\n",
    "Let the quadratic function be $f(t) = at^2 + bt + c$ where $t = y \\mathbf{w}^\\top \\mathbf{x}$\n",
    "$$ \\begin{align}\n",
    "f(0) = 1 &\\implies c = 1 && (\\text{continuity at } x = 0) \\\\\n",
    "f'(0) = -1 &\\implies b = -1 && (\\text{differentiablity at } x = 0) \\\\\n",
    "f(r) = 0 &\\implies ar^2 + br + c = ar^2 - r + 1 = 0 && (\\text{continuity at } x = r) \\\\\n",
    "f'(r) = 0 &\\implies 2ar + b = 2ar - 1 = 0  && (\\text{differentiablity at } x = r) \\\\ \n",
    "\\end{align} $$\n",
    "\n",
    "On solving the equations, we get\n",
    "$$ \\begin{align} \n",
    "&r = \\frac{1}{2a}  \\\\\n",
    "\\implies &a \\cdot \\frac{1}{4a^2} - \\frac{1}{2a} + 1 = 0 \\\\\n",
    "\\implies &\\frac{1}{4a} = 1 \\\\\n",
    "\\implies &a = \\frac{1}{4} \\\\\n",
    "\\implies &r = \\frac{1}{2a} = 2\n",
    "\\end{align} $$\n",
    "\n",
    "Therefore, our smoothened loss function is given by\n",
    "$$ l(t) =\n",
    "\\begin{cases}\n",
    "    1 - t & t < 0 \\\\\n",
    "    \\frac{t^2}{4} - t + 1 & 0 \\le t \\le 2 \\\\\n",
    "    0 & t > 2\n",
    "\\end{cases} $$\n",
    "where $t = y \\mathbf{w}^\\top \\mathbf{x}$"
   ]
  },
  {
   "cell_type": "code",
   "execution_count": 7,
   "id": "24842a9b",
   "metadata": {},
   "outputs": [
    {
     "data": {
      "image/png": "[encoded data removed]",
      "text/plain": [
       "<Figure size 432x288 with 1 Axes>"
      ]
     },
     "metadata": {
      "needs_background": "light"
     },
     "output_type": "display_data"
    }
   ],
   "source": [
    "# Plotting the smoothened loss function\n",
    "def smooth_loss(t):\n",
    "    if t < 0:\n",
    "        return 1 - t\n",
    "    elif t <= 2:\n",
    "        return t**2/4 - t + 1\n",
    "    else:\n",
    "        return 0\n",
    "    \n",
    "# Vectorize the loss function so that it can be applied to an array\n",
    "smooth_loss_vec = np.vectorize(smooth_loss) \n",
    "\n",
    "T = np.linspace(-5, 7, 100)\n",
    "plt.plot(T, smooth_loss_vec(T))\n",
    "plt.xlabel('$y (\\mathbf{w} \\cdot \\mathbf{x}) $')\n",
    "plt.ylabel('$l(y, \\mathbf{w}, \\mathbf{x})$')\n",
    "plt.title('Smoothened Hinge Loss')\n",
    "plt.grid()"
   ]
  },
  {
   "cell_type": "markdown",
   "id": "32119d6d",
   "metadata": {},
   "source": [
    "This does satisfy the properties of an ideal loss function for classification \\\n",
    "When $y$ and $\\mathbf{w}^\\top \\mathbf{x}$ are of the same sign, the loss is low and even zero when the product is sufficiently high \\\n",
    "When they are of opposite signs, the loss is high and penalty is higher for a more negative product"
   ]
  },
  {
   "cell_type": "markdown",
   "id": "23bbdc60",
   "metadata": {},
   "source": [
    "### Gradient computation and update equation"
   ]
  },
  {
   "cell_type": "markdown",
   "id": "7baefdeb",
   "metadata": {},
   "source": [
    "The derivative of the loss function is given by\n",
    "$$ l'(t) =\n",
    "\\begin{cases}\n",
    "-1 & t < 0 \\\\\n",
    "\\frac{t}{2} - 1 & 0 \\le t \\le 2 \\\\\n",
    "0 & t > 2\n",
    "\\end{cases} $$\n",
    "\n",
    "If the size of the training dataset is $m$, then the optimization problem at hand is\n",
    "$$ \\arg\\min_{\\mathbf{w}}  \\frac{1}{m} \\sum_{i=1}^m l(y_i, \\mathbf{w}, \\mathbf{x}_i) $$\n",
    "\n",
    "The weight vector is of the form $\\mathbf{w} = \\begin{pmatrix} w_1 & w_2 & b \\end{pmatrix}^\\top $ and the inputs are of the form $\\mathbf{x}_i = \\begin{pmatrix} x_{i1} & x_{i2} & 1 \\end{pmatrix}^\\top $, i.e.,\n",
    "$$ \\mathbf{w}^\\top \\mathbf{x}_i = w_1 x_{i1} + w_2 x_{i2} + b $$\n",
    "\n",
    "The gradient of the loss function with respect to $\\mathbf{w}$ is then given by\n",
    "$$ \\begin{align}\n",
    "\\frac{\\partial l(y_i, \\mathbf{w}, \\mathbf{x}_i)}{\\partial w_1} &= \\frac{\\partial l(t)}{\\partial t} \\frac{\\partial t}{\\partial w_1} = l'(t) y_i x_{i1} \\\\\n",
    "\\frac{\\partial l(y_i, \\mathbf{w}, \\mathbf{x}_i)}{\\partial w_2} &= \\frac{\\partial l(t)}{\\partial t} \\frac{\\partial t}{\\partial w_2} = l'(t) y_i x_{i2} \\\\\n",
    "\\frac{\\partial l(y_i, \\mathbf{w}, \\mathbf{x}_i)}{\\partial b} &= \\frac{\\partial l(t)}{\\partial t} \\frac{\\partial t}{\\partial b} = l'(t) y_i \\\\\n",
    "\\implies \\nabla_{\\mathbf{w}} l(y_i, \\mathbf{w}, \\mathbf{x}_i) &= \\begin{pmatrix} \\frac{\\partial l(y_i, \\mathbf{w}, \\mathbf{x}_i)}{\\partial w_1} & \\frac{\\partial l(y_i, \\mathbf{w}, \\mathbf{x}_i)}{\\partial w_2} & \\frac{\\partial l(y_i, \\mathbf{w}, \\mathbf{x}_i)}{\\partial b} \\end{pmatrix}^\\top \\\\\n",
    "&= l'(t) \\begin{pmatrix} y_i x_{i1} & y_i x_{i2} & y_i \\end{pmatrix}^\\top\n",
    "\\end{align} $$\n",
    "\n",
    "Thus, the gradient of the total loss of the entire dataset is given by\n",
    "$$ \\nabla_{\\mathbf{w}} l(\\mathbf{w}, \\mathcal{D}) = \\frac{1}{m} \\sum_{i=1}^m l'(y_i \\mathbf{w}^\\top \\mathbf{x}_i) \\begin{pmatrix} y_i x_{i1} & y_i x_{i2} & y_i \\end{pmatrix}^\\top $$"
   ]
  },
  {
   "cell_type": "code",
   "execution_count": 8,
   "id": "b54bb390",
   "metadata": {},
   "outputs": [],
   "source": [
    "# Derivative of the loss function\n",
    "def loss_derivative(t):\n",
    "    if t < 0:\n",
    "        return -1\n",
    "    elif t <= 2:\n",
    "        return t/2 - 1\n",
    "    else:\n",
    "        return 0"
   ]
  },
  {
   "cell_type": "code",
   "execution_count": 9,
   "id": "7ab5c924",
   "metadata": {},
   "outputs": [],
   "source": [
    "class GradientDescent:\n",
    "    \n",
    "    def __init__(self, iterations, learning_rate, dataset):\n",
    "        \n",
    "        self.iterations = iterations # Number of iterations to run gradient descent for\n",
    "        self.learning_rate = learning_rate # Learning rate in the update equation\n",
    "        self.dataset = dataset # Training dataset\n",
    "        \n",
    "    # Computes the gradient of the total loss over the entire dataset    \n",
    "    def compute_gradient(self, weights):\n",
    "        \n",
    "        total_gradient = np.zeros(3)\n",
    "        m = len(self.dataset)\n",
    "        \n",
    "        for data in self.dataset:\n",
    "            \n",
    "            x = np.array([data[0], data[1], 1]) # Appending 1 to input for multiplication with bias\n",
    "            y = data[2] # Label        \n",
    "            t = y * (weights @ x)\n",
    "            \n",
    "            dl = loss_derivative(t) # l'(t)\n",
    "            dt = np.array([y * x[0], y * x[1], y]) # (dt/dw1, dt/dw2, dt/db)\n",
    "            \n",
    "            total_gradient += dl * dt\n",
    "            \n",
    "        return total_gradient / m\n",
    "    \n",
    "    # Performs gradient descent iterations number of times\n",
    "    def gradient_descent(self):\n",
    "        \n",
    "        weights = np.random.rand(3) # Initial weights\n",
    "        \n",
    "        for _ in range(self.iterations):\n",
    "            grad = self.compute_gradient(weights)\n",
    "            weights -= self.learning_rate * grad # Update equation\n",
    "            \n",
    "        return weights"
   ]
  },
  {
   "cell_type": "markdown",
   "id": "bf6fc6df",
   "metadata": {},
   "source": [
    "### Training the classifier"
   ]
  },
  {
   "cell_type": "code",
   "execution_count": 10,
   "id": "37a04462",
   "metadata": {},
   "outputs": [
    {
     "data": {
      "text/plain": [
       "Text(0.5, 1.0, 'Dataset Before Training')"
      ]
     },
     "execution_count": 10,
     "metadata": {},
     "output_type": "execute_result"
    },
    {
     "data": {
      "image/png": "[encoded data removed]",
      "text/plain": [
       "<Figure size 432x288 with 1 Axes>"
      ]
     },
     "metadata": {
      "needs_background": "light"
     },
     "output_type": "display_data"
    }
   ],
   "source": [
    "# Generate random training dataset\n",
    "perceptron = PerceptronLearning(20, 1000)\n",
    "pos, neg = perceptron.generate_dataset()\n",
    "dataset = pos + neg\n",
    "np.random.shuffle(dataset)\n",
    "\n",
    "plt.scatter([x[0] for x in pos], [x[1] for x in pos], color='g')\n",
    "plt.scatter([x[0] for x in neg], [x[1] for x in neg], color='r')\n",
    "plt.title('Dataset Before Training')"
   ]
  },
  {
   "cell_type": "code",
   "execution_count": 11,
   "id": "6f47c11b",
   "metadata": {},
   "outputs": [
    {
     "data": {
      "text/plain": [
       "Text(0.5, 1.0, 'Gradient Descent Trained Classifier')"
      ]
     },
     "execution_count": 11,
     "metadata": {},
     "output_type": "execute_result"
    },
    {
     "data": {
      "image/png": "[encoded data removed]",
      "text/plain": [
       "<Figure size 432x288 with 1 Axes>"
      ]
     },
     "metadata": {
      "needs_background": "light"
     },
     "output_type": "display_data"
    }
   ],
   "source": [
    "classifier = GradientDescent(1000, 0.01, dataset)\n",
    "W = classifier.gradient_descent()\n",
    "X = np.linspace(-300, 300, 100)\n",
    "Y = - (W[0] / W[1]) * X - (W[2] / W[1]) # Equation of the line is W[0]*X + W[1]*Y + W[2] = 0\n",
    "\n",
    "plt.plot(X, Y)\n",
    "plt.scatter([x[0] for x in pos], [x[1] for x in pos], color='g')\n",
    "plt.scatter([x[0] for x in neg], [x[1] for x in neg], color='r')\n",
    "plt.title('Gradient Descent Trained Classifier')"
   ]
  },
  {
   "cell_type": "markdown",
   "id": "cb4cca37",
   "metadata": {},
   "source": [
    "We can observe that gradient descent has produced a perfect classifier for the training data"
   ]
  },
  {
   "cell_type": "markdown",
   "id": "6bd51488",
   "metadata": {},
   "source": [
    "## Problem 3: Multilayer Perceptron"
   ]
  },
  {
   "cell_type": "code",
   "execution_count": 12,
   "id": "d6c4f93a",
   "metadata": {},
   "outputs": [],
   "source": [
    "class MLPNetwork:\n",
    "    \n",
    "    def __init__(self, hidden_layer):\n",
    "        \n",
    "        # Number of neurons in each layer\n",
    "        self.input_layer = 2\n",
    "        self.hidden_layer = hidden_layer\n",
    "        self.output_layer = 1\n",
    "        \n",
    "        # Weight matrices between the layers\n",
    "        self.input_hidden_weights = np.zeros((self.hidden_layer, self.input_layer))\n",
    "        self.hidden_output_weights = np.zeros((self.output_layer, self.hidden_layer))\n",
    "        \n",
    "        # Bias terms for each layer\n",
    "        self.hidden_bias = 0\n",
    "        self.output_bias = 0\n",
    "        \n",
    "        # Node values present at each neuron\n",
    "        self.hidden_values = np.zeros(self.hidden_layer)\n",
    "        self.output_values = np.zeros(self.output_layer)\n",
    "        \n",
    "        # Stores the training loss at each epoch\n",
    "        self.loss_per_epoch = []\n",
    "        \n",
    "    # Randomly generates a 2D non-linearly separable dataset\n",
    "    def generate_dataset(self, inner_radius, outer_radius, number_of_points):\n",
    "        \n",
    "        positive_samples = []\n",
    "        negative_samples = []\n",
    "        \n",
    "        # Generate number_of_points samples for each category\n",
    "        for _ in range(number_of_points):\n",
    "            \n",
    "            x = np.random.rand(2) * 2 - 1 # Generate in the range [-1, 1]\n",
    "            # Make the norm of x equal to outer_radius\n",
    "            x = outer_radius * (x / np.linalg.norm(x))\n",
    "            x += np.random.randn() # Add Gaussian noise \n",
    "            positive_samples.append(np.array([x[0], x[1], 1])) # Appending the label of the sample to itself\n",
    "        \n",
    "            x = np.random.rand(2) * 2 - 1 # Generate in the range [-1, 1]\n",
    "            # Make the norm of x equal to inner_radius\n",
    "            x = inner_radius * (x / np.linalg.norm(x))\n",
    "            x += np.random.randn() # Add Gaussian noise \n",
    "            negative_samples.append(np.array([x[0], x[1], -1])) # Appending the label of the sample to itself\n",
    "            \n",
    "        return positive_samples, negative_samples\n",
    "    \n",
    "    # Initialize the weights of the network to random numbers\n",
    "    def initialize_weights(self):\n",
    "        \n",
    "        self.input_hidden_weights = np.random.rand(self.hidden_layer, self.input_layer)\n",
    "        self.hidden_output_weights = np.random.rand(self.output_layer, self.hidden_layer)\n",
    "        self.hidden_bias = np.random.rand()\n",
    "        self.output_bias = np.random.rand()\n",
    "        return self.input_hidden_weights, self.hidden_output_weights, self.hidden_bias, self.output_bias\n",
    "    \n",
    "    # Activation function\n",
    "    def sigmoid(self, x):\n",
    "        return 1 / (1 + np.exp(-x))\n",
    "    \n",
    "    # Derivative of the activation function\n",
    "    def sigmoid_derivative(self, x):\n",
    "        return np.exp(-x) / (1 + np.exp(-x))**2\n",
    "    \n",
    "    # Compute training loss for the entire dataset\n",
    "    def compute_loss(self, dataset):\n",
    "        \n",
    "        m = len(dataset)\n",
    "        loss = 0\n",
    "        \n",
    "        for data in dataset:\n",
    "            y = data[2] # Label\n",
    "            out = self.forward_pass(data)\n",
    "            t = y * out\n",
    "            loss += smooth_loss(t) # Add loss of each point in the dataset\n",
    "            \n",
    "        return loss / m\n",
    "    \n",
    "    # Populating the node values at each neuron in a forward pass\n",
    "    def forward_pass(self, x):\n",
    "        \n",
    "        x = np.array([x[0], x[1]])\n",
    "        \n",
    "        for i in range(self.hidden_layer):\n",
    "            result = x @ self.input_hidden_weights[i] + self.hidden_bias\n",
    "            result = self.sigmoid(result)\n",
    "            self.hidden_values[i] = result\n",
    "            \n",
    "        for i in range(self.output_layer):\n",
    "            result = self.hidden_values @ self.hidden_output_weights[i] + self.output_bias\n",
    "            result = self.sigmoid(result)\n",
    "            self.output_values[i] = result\n",
    "            \n",
    "        return self.output_values[0] # Only one neuron in the output layer\n",
    "    \n",
    "    # Backpropagation to find all the gradients\n",
    "    def backpropagation(self, data):\n",
    "        \n",
    "        # Initializing gradients of the loss with respect to the weights to zero\n",
    "        input_hidden_gradients = np.zeros((self.hidden_layer, self.input_layer))\n",
    "        hidden_output_gradients = np.zeros((self.output_layer, self.hidden_layer))\n",
    "        \n",
    "        # Initializing gradients of the loss with respect to the biases to zero\n",
    "        hidden_bias_gradient = 0\n",
    "        output_bias_gradient = 0\n",
    "        \n",
    "        x = np.array([data[0], data[1]])\n",
    "        y = data[2] # Label\n",
    "        out = self.forward_pass(data)\n",
    "        t = y * out\n",
    "        \n",
    "        dl = loss_derivative(t) * y \n",
    "        dt = self.sigmoid_derivative(self.hidden_values @ self.hidden_output_weights[0] + self.output_bias)\n",
    "        \n",
    "        # Computing gradients with respect to the weights and bias in the last layer\n",
    "        for i in range(self.hidden_layer):\n",
    "            hidden_output_gradients[0, i] = dl * dt * self.hidden_values[i]        \n",
    "        output_bias_gradient = dl * dt\n",
    "        \n",
    "        # Computing gradients with respect to the weights and bias in the last layer\n",
    "        for i in range(self.hidden_layer):\n",
    "            \n",
    "            dh = self.sigmoid_derivative(x @ self.input_hidden_weights[i] + self.hidden_bias)\n",
    "            \n",
    "            for j in range(self.input_layer):\n",
    "                input_hidden_gradients[i, j] = dl * dt * self.hidden_output_weights[0, i] * dh * x[j]\n",
    "                \n",
    "            hidden_bias_gradient += dl * dt * self.hidden_output_weights[0, i] * dh \n",
    "            \n",
    "        return input_hidden_gradients, hidden_output_gradients, hidden_bias_gradient, output_bias_gradient\n",
    "    \n",
    "    # Performing gradient descent to update the weights of the network\n",
    "    def gradient_descent(self, epochs, learning_rate, dataset):\n",
    "        \n",
    "        self.loss_per_epoch = []\n",
    "        \n",
    "        for _ in range(epochs):\n",
    "            \n",
    "            # For each sample in the dataset one-by-one\n",
    "            for data in dataset:\n",
    "                \n",
    "                # Compute gradients\n",
    "                ih_grad, ho_grad, hb_grad, ob_grad = self.backpropagation(data) \n",
    "                \n",
    "                # Update weights and biases\n",
    "                self.input_hidden_weights -= learning_rate * ih_grad\n",
    "                self.hidden_output_weights -= learning_rate * ho_grad\n",
    "                self.hidden_bias -= learning_rate * hb_grad\n",
    "                self.output_bias -= learning_rate * ob_grad\n",
    "                \n",
    "            training_loss =  self.compute_loss(dataset)\n",
    "            self.loss_per_epoch.append(training_loss)\n",
    "                \n",
    "        return self.input_hidden_weights, self.hidden_output_weights, self.hidden_bias, self.output_bias\n",
    "    \n",
    "    # Predicts the label of a given input\n",
    "    def predict(self, data):\n",
    "        \n",
    "        out = self.forward_pass(data) # This output is sigmoidal\n",
    "        # Sigmoidal output is thresholded at 0.5\n",
    "        if out > 0.5:\n",
    "            return 1\n",
    "        else:\n",
    "            return -1"
   ]
  },
  {
   "cell_type": "markdown",
   "id": "dc98580a",
   "metadata": {},
   "source": [
    "### Explanation of gradient computation\n",
    "\n",
    "Let us use the notation discussed in class \\\n",
    "$w^{(l)}_{ji}$ is the weight of edge between neuron $j$ in layer $l$ and neuron $i$ in layer $l-1$ \\\n",
    "$b^{(l)}$ is the bias for later $l$ (assuming same bias for one whole layer) \\\n",
    "$s^{(l)}_j$ is the weighted input to neuron $j$ in layer $l$ \\\n",
    "$x^{(l)}_j$ is the activated output at neuron $j$ in layer $l$ \\\n",
    "$y$ is the true label for the input $\\mathbf{x}^{(0)}$\n",
    "\n",
    "Indexing the input, hidden and output layers as $0, 1$ and $2$ respectively, we have\n",
    "$$ \\begin{align}\n",
    "s^{(1)}_j &= \\sum_k w^{(1)}_{jk} x^{(0)}_k + b^{(1)} \\\\\n",
    "x^{(1)}_j &= \\sigma\\left(s^{(1)}_j\\right) \\\\\n",
    "s^{(2)}_0 &= \\sum_j w^{(2)}_{0j} x^{(1)}_j + b^{(2)} \\qquad (\\text{only one neuron in the output layer, indexed by } 0) \\\\\n",
    "x^{(2)}_0 &= \\sigma\\left(s^{(2)}_0\\right) \\\\\n",
    "\\mathcal{L} &= l(y x^{(2)}_0) \n",
    "\\end{align} $$\n",
    "\n",
    "Thus, the gradients are given by\n",
    "$$ \\begin{align}\n",
    "\\frac{\\partial \\mathcal{L}}{\\partial w^{(2)}_{0j}} \n",
    "&= \\frac{\\partial \\mathcal{L}}{\\partial \\left(y x^{(2)}_0\\right)}\n",
    "\\frac{\\partial \\left(y x^{(2)}_0\\right)}{\\partial x^{(2)}_0}\n",
    "\\frac{\\partial x^{(2)}_0}{\\partial s^{(2)}_0}\n",
    "\\frac{\\partial s^{(2)}_0}{\\partial w^{(2)}_{0j}} \\\\\n",
    "&= l'(y x^{(2)}_0) \\cdot y \\cdot \\sigma'\\left(s^{(2)}_0\\right) \\cdot x^{(1)}_j \\\\\n",
    "\\frac{\\partial \\mathcal{L}}{\\partial b^{(2)}} \n",
    "&= \\frac{\\partial \\mathcal{L}}{\\partial \\left(y x^{(2)}_0\\right)}\n",
    "\\frac{\\partial \\left(y x^{(2)}_0\\right)}{\\partial x^{(2)}_0}\n",
    "\\frac{\\partial x^{(2)}_0}{\\partial s^{(2)}_0}\n",
    "\\frac{\\partial s^{(2)}_0}{\\partial b^{(2)}} \\\\\n",
    "&= l'(y x^{(2)}_0) \\cdot y \\cdot \\sigma'\\left(s^{(2)}_0\\right) \\cdot 1 \n",
    "\\end{align} $$\n",
    "\n",
    "In the code, $l'(y x^{(2)}_0) \\cdot y$ is stored in the variable `dl` \\\n",
    "$\\sigma'\\left(s^{(2)}_0\\right)$ is stored in `dt` \\\n",
    "`self.hidden_values[j]` represents $x^{(1)}_j$\n",
    "\n",
    "Now, for the other gradients\n",
    "$$ \\begin{align}\n",
    "\\frac{\\partial \\mathcal{L}}{\\partial w^{(1)}_{jk}} \n",
    "&= \\frac{\\partial \\mathcal{L}}{\\partial \\left(y x^{(2)}_0\\right)}\n",
    "\\frac{\\partial \\left(y x^{(2)}_0\\right)}{\\partial x^{(2)}_0}\n",
    "\\frac{\\partial x^{(2)}_0}{\\partial s^{(2)}_0}\n",
    "\\frac{\\partial s^{(2)}_0}{\\partial x^{(1)}_j}\n",
    "\\frac{\\partial x^{(1)}_j}{\\partial s^{(1)}_j}\n",
    "\\frac{\\partial s^{(1)}_j}{\\partial w^{(1)}_{jk}} \\\\\n",
    "&= l'(y x^{(2)}_0) \\cdot y \\cdot \\sigma'\\left(s^{(2)}_0\\right) \\cdot w^{(2)}_{0j} \\cdot \\sigma'\\left(s^{(1)}_j\\right) \\cdot x^{(0)}_k \\\\\n",
    "\\frac{\\partial \\mathcal{L}}{\\partial b^{(1)}} \n",
    "&= \\frac{\\partial \\mathcal{L}}{\\partial \\left(y x^{(2)}_0\\right)}\n",
    "\\frac{\\partial \\left(y x^{(2)}_0\\right)}{\\partial x^{(2)}_0}\n",
    "\\frac{\\partial x^{(2)}_0}{\\partial s^{(2)}_0}\n",
    "\\frac{\\partial s^{(2)}_0}{\\partial x^{(1)}_j}\n",
    "\\frac{\\partial x^{(1)}_j}{\\partial s^{(1)}_j}\n",
    "\\frac{\\partial s^{(1)}_j}{\\partial b^{(1)}} \\\\\n",
    "&= l'(y x^{(2)}_0) \\cdot y \\cdot \\sigma'\\left(s^{(2)}_0\\right) \\cdot w^{(2)}_{0j} \\cdot \\sigma'\\left(s^{(1)}_j\\right) \\cdot 1\n",
    "\\end{align} $$\n",
    "\n",
    "`self.hidden_output_weights[0, j]` represents $w^{(2)}_{0j}$ \\\n",
    "$\\sigma'\\left(s^{(1)}_j\\right)$ is stored in the variable `dh` \\\n",
    "`x[k]` represents $x^{(0)}_k$"
   ]
  },
  {
   "cell_type": "markdown",
   "id": "29b259ac",
   "metadata": {},
   "source": [
    "### Generating and plotting the dataset"
   ]
  },
  {
   "cell_type": "code",
   "execution_count": 13,
   "id": "50dfb26d",
   "metadata": {},
   "outputs": [
    {
     "data": {
      "text/plain": [
       "Text(0.5, 1.0, 'Training Dataset')"
      ]
     },
     "execution_count": 13,
     "metadata": {},
     "output_type": "execute_result"
    },
    {
     "data": {
      "image/png": "[encoded data removed]",
      "text/plain": [
       "<Figure size 432x288 with 1 Axes>"
      ]
     },
     "metadata": {
      "needs_background": "light"
     },
     "output_type": "display_data"
    }
   ],
   "source": [
    "net = MLPNetwork(3)\n",
    "pos, neg = net.generate_dataset(10, 20, 1000)\n",
    "\n",
    "plt.scatter([x[0] for x in pos], [x[1] for x in pos], color='g')\n",
    "plt.scatter([x[0] for x in neg], [x[1] for x in neg], color='r')\n",
    "plt.title('Training Dataset')"
   ]
  },
  {
   "cell_type": "markdown",
   "id": "27267324",
   "metadata": {},
   "source": [
    "### MLP definition"
   ]
  },
  {
   "cell_type": "code",
   "execution_count": 14,
   "id": "4b495169",
   "metadata": {},
   "outputs": [
    {
     "name": "stdout",
     "output_type": "stream",
     "text": [
      "[[0.80984173 0.4047319 ]\n",
      " [0.80552519 0.77989703]\n",
      " [0.96583663 0.6019379 ]]\n",
      "0.6391108949155364\n",
      "\n",
      "[[0.26135024 0.05659084 0.76961304]]\n",
      "0.7530460941319093\n"
     ]
    }
   ],
   "source": [
    "# Defining an MLP with 2 input neurons, 3 hidden layer neurons and 1 output neuron\n",
    "net = MLPNetwork(3)\n",
    "\n",
    "# Initializing and printing the weights and biases of the network\n",
    "ih_weights, ho_weights, h_bias, o_bias = net.initialize_weights()\n",
    "print(ih_weights)\n",
    "print(h_bias)\n",
    "print()\n",
    "print(ho_weights)\n",
    "print(o_bias)"
   ]
  },
  {
   "cell_type": "code",
   "execution_count": 15,
   "id": "ca4e379e",
   "metadata": {},
   "outputs": [
    {
     "name": "stdout",
     "output_type": "stream",
     "text": [
      "[ 4.2818046  20.23779775  1.        ]\n"
     ]
    },
    {
     "data": {
      "text/plain": [
       "0.7369560289317277"
      ]
     },
     "execution_count": 15,
     "metadata": {},
     "output_type": "execute_result"
    }
   ],
   "source": [
    "# Testing forward pass of the network\n",
    "net.initialize_weights()\n",
    "pos, neg = net.generate_dataset(10, 20, 1000)\n",
    "sample_input = pos[0]\n",
    "print(sample_input)\n",
    "net.forward_pass(sample_input)"
   ]
  },
  {
   "cell_type": "code",
   "execution_count": 16,
   "id": "47b87b93",
   "metadata": {},
   "outputs": [
    {
     "name": "stdout",
     "output_type": "stream",
     "text": [
      "[ 8.79930319  4.85709392 -1.        ]\n"
     ]
    },
    {
     "data": {
      "text/plain": [
       "(array([[8.13801221e-07, 4.49207043e-07],\n",
       "        [1.42069552e-05, 7.84204317e-06],\n",
       "        [1.14780863e-05, 6.33574520e-06]]),\n",
       " array([[0.11012095, 0.11011148, 0.11011339]]),\n",
       " 3.0114705741238714e-06,\n",
       " 0.11012107305361188)"
      ]
     },
     "execution_count": 16,
     "metadata": {},
     "output_type": "execute_result"
    }
   ],
   "source": [
    "# Testing backpropagation of the network\n",
    "net.initialize_weights()\n",
    "pos, neg = net.generate_dataset(10, 20, 1000)\n",
    "sample_input = neg[0]\n",
    "print(sample_input)\n",
    "net.backpropagation(sample_input)"
   ]
  },
  {
   "cell_type": "markdown",
   "id": "662fb3b0",
   "metadata": {},
   "source": [
    "### Training the neural network"
   ]
  },
  {
   "cell_type": "code",
   "execution_count": 17,
   "id": "fd94372d",
   "metadata": {},
   "outputs": [
    {
     "data": {
      "text/plain": [
       "(array([[-1.42183225, -0.27553396],\n",
       "        [ 0.25487662,  1.2836165 ],\n",
       "        [-0.00612566, -0.0055842 ],\n",
       "        [-0.00609718, -0.00566165],\n",
       "        [ 0.98868717, -1.0345933 ]]),\n",
       " array([[-10.89489769, -10.84614327,   9.51352989,   9.44939503,\n",
       "         -11.12946556]]),\n",
       " 15.118555805754196,\n",
       " 7.4226249946322715)"
      ]
     },
     "execution_count": 17,
     "metadata": {},
     "output_type": "execute_result"
    }
   ],
   "source": [
    "net = MLPNetwork(5)\n",
    "net.initialize_weights()\n",
    "\n",
    "pos, neg = net.generate_dataset(10, 20, 1000)\n",
    "dataset = pos + neg\n",
    "np.random.shuffle(dataset)\n",
    "\n",
    "net.gradient_descent(300, 0.01, dataset)"
   ]
  },
  {
   "cell_type": "markdown",
   "id": "00b22025",
   "metadata": {},
   "source": [
    "The above cell takes roughly 1 minute "
   ]
  },
  {
   "cell_type": "markdown",
   "id": "10098033",
   "metadata": {},
   "source": [
    "### Testing the network"
   ]
  },
  {
   "cell_type": "code",
   "execution_count": 18,
   "id": "82473f91",
   "metadata": {},
   "outputs": [
    {
     "data": {
      "image/png": "[encoded data removed]",
      "text/plain": [
       "<Figure size 432x288 with 1 Axes>"
      ]
     },
     "metadata": {
      "needs_background": "light"
     },
     "output_type": "display_data"
    }
   ],
   "source": [
    "for _ in range(200):\n",
    "    \n",
    "    # Generating new test data point randomly\n",
    "    x = np.random.randn(2) * 15\n",
    "    \n",
    "    # Passing the input through the network to obtain a prediction\n",
    "    if net.predict(x) == 1:\n",
    "        plt.scatter([x[0]], [x[1]], color='lime')\n",
    "    else:\n",
    "        plt.scatter([x[0]], [x[1]], color='coral')\n",
    "        \n",
    "    plt.title('Trained MLP on Test Dataset')"
   ]
  },
  {
   "cell_type": "markdown",
   "id": "4f48cda6",
   "metadata": {},
   "source": [
    "We can see that the MLP network has correctly learned the pattern present in the training data and is able to classify new test data points just like we wanted"
   ]
  },
  {
   "cell_type": "markdown",
   "id": "d85f3877",
   "metadata": {},
   "source": [
    "### Plotting the training loss"
   ]
  },
  {
   "cell_type": "code",
   "execution_count": 19,
   "id": "02ec3d3f",
   "metadata": {},
   "outputs": [
    {
     "data": {
      "text/plain": [
       "Text(0.5, 1.0, 'Training Loss at each Epoch')"
      ]
     },
     "execution_count": 19,
     "metadata": {},
     "output_type": "execute_result"
    },
    {
     "data": {
      "image/png": "[encoded data removed]",
      "text/plain": [
       "<Figure size 432x288 with 1 Axes>"
      ]
     },
     "metadata": {
      "needs_background": "light"
     },
     "output_type": "display_data"
    }
   ],
   "source": [
    "L = net.loss_per_epoch\n",
    "N = len(L)\n",
    "\n",
    "plt.plot(range(1, N + 1), L)\n",
    "plt.xlabel('Epoch')\n",
    "plt.ylabel('Loss')\n",
    "plt.title('Training Loss at each Epoch')"
   ]
  },
  {
   "cell_type": "markdown",
   "id": "b9e64f44",
   "metadata": {},
   "source": [
    "As expected, the training loss decreases sharply as the number of epochs increases"
   ]
  }
 ],
 "metadata": {
  "kernelspec": {
   "display_name": "Python 3 (ipykernel)",
   "language": "python",
   "name": "python3"
  },
  "language_info": {
   "codemirror_mode": {
    "name": "ipython",
    "version": 3
   },
   "file_extension": ".py",
   "mimetype": "text/x-python",
   "name": "python",
   "nbconvert_exporter": "python",
   "pygments_lexer": "ipython3",
   "version": "3.11.1"
  }
 },
 "nbformat": 4,
 "nbformat_minor": 5
}
